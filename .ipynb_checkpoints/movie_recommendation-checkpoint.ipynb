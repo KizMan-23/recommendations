{
 "cells": [
  {
   "cell_type": "code",
   "execution_count": 1,
   "id": "523f7b69-8563-4ffc-acae-2dd9824dcf87",
   "metadata": {},
   "outputs": [],
   "source": [
    "import pandas as pd\n",
    "import numpy as np\n",
    "import zipfile\n",
    "from sklearn.feature_extraction.text import TfidfVectorizer\n",
    "import regex as re\n",
    "from sklearn.metrics.pairwise import cosine_similarity"
   ]
  },
  {
   "cell_type": "code",
   "execution_count": 2,
   "id": "16ddb009-6fcd-494c-9b97-dfefb061b525",
   "metadata": {},
   "outputs": [
    {
     "name": "stdout",
     "output_type": "stream",
     "text": [
      "Extraction Successful\n"
     ]
    }
   ],
   "source": [
    "with zipfile.ZipFile(\"C:/Users/Hp Pc/rec_datasets/movies.zip\") as file:\n",
    "    file_name = file.namelist()\n",
    "    with file.open(file_name[0], 'r') as f:\n",
    "        movies = pd.read_csv(f)\n",
    "        print(\"Extraction Successful\")\n"
   ]
  },
  {
   "cell_type": "code",
   "execution_count": 3,
   "id": "149b86a8-8f64-411b-a64b-8762a5f639f6",
   "metadata": {},
   "outputs": [
    {
     "data": {
      "text/html": [
       "<div>\n",
       "<style scoped>\n",
       "    .dataframe tbody tr th:only-of-type {\n",
       "        vertical-align: middle;\n",
       "    }\n",
       "\n",
       "    .dataframe tbody tr th {\n",
       "        vertical-align: top;\n",
       "    }\n",
       "\n",
       "    .dataframe thead th {\n",
       "        text-align: right;\n",
       "    }\n",
       "</style>\n",
       "<table border=\"1\" class=\"dataframe\">\n",
       "  <thead>\n",
       "    <tr style=\"text-align: right;\">\n",
       "      <th></th>\n",
       "      <th>movieId</th>\n",
       "      <th>title</th>\n",
       "      <th>genres</th>\n",
       "    </tr>\n",
       "  </thead>\n",
       "  <tbody>\n",
       "    <tr>\n",
       "      <th>0</th>\n",
       "      <td>1</td>\n",
       "      <td>Toy Story (1995)</td>\n",
       "      <td>Adventure|Animation|Children|Comedy|Fantasy</td>\n",
       "    </tr>\n",
       "    <tr>\n",
       "      <th>1</th>\n",
       "      <td>2</td>\n",
       "      <td>Jumanji (1995)</td>\n",
       "      <td>Adventure|Children|Fantasy</td>\n",
       "    </tr>\n",
       "    <tr>\n",
       "      <th>2</th>\n",
       "      <td>3</td>\n",
       "      <td>Grumpier Old Men (1995)</td>\n",
       "      <td>Comedy|Romance</td>\n",
       "    </tr>\n",
       "    <tr>\n",
       "      <th>3</th>\n",
       "      <td>4</td>\n",
       "      <td>Waiting to Exhale (1995)</td>\n",
       "      <td>Comedy|Drama|Romance</td>\n",
       "    </tr>\n",
       "    <tr>\n",
       "      <th>4</th>\n",
       "      <td>5</td>\n",
       "      <td>Father of the Bride Part II (1995)</td>\n",
       "      <td>Comedy</td>\n",
       "    </tr>\n",
       "    <tr>\n",
       "      <th>5</th>\n",
       "      <td>6</td>\n",
       "      <td>Heat (1995)</td>\n",
       "      <td>Action|Crime|Thriller</td>\n",
       "    </tr>\n",
       "    <tr>\n",
       "      <th>6</th>\n",
       "      <td>7</td>\n",
       "      <td>Sabrina (1995)</td>\n",
       "      <td>Comedy|Romance</td>\n",
       "    </tr>\n",
       "    <tr>\n",
       "      <th>7</th>\n",
       "      <td>8</td>\n",
       "      <td>Tom and Huck (1995)</td>\n",
       "      <td>Adventure|Children</td>\n",
       "    </tr>\n",
       "    <tr>\n",
       "      <th>8</th>\n",
       "      <td>9</td>\n",
       "      <td>Sudden Death (1995)</td>\n",
       "      <td>Action</td>\n",
       "    </tr>\n",
       "    <tr>\n",
       "      <th>9</th>\n",
       "      <td>10</td>\n",
       "      <td>GoldenEye (1995)</td>\n",
       "      <td>Action|Adventure|Thriller</td>\n",
       "    </tr>\n",
       "  </tbody>\n",
       "</table>\n",
       "</div>"
      ],
      "text/plain": [
       "   movieId                               title  \\\n",
       "0        1                    Toy Story (1995)   \n",
       "1        2                      Jumanji (1995)   \n",
       "2        3             Grumpier Old Men (1995)   \n",
       "3        4            Waiting to Exhale (1995)   \n",
       "4        5  Father of the Bride Part II (1995)   \n",
       "5        6                         Heat (1995)   \n",
       "6        7                      Sabrina (1995)   \n",
       "7        8                 Tom and Huck (1995)   \n",
       "8        9                 Sudden Death (1995)   \n",
       "9       10                    GoldenEye (1995)   \n",
       "\n",
       "                                        genres  \n",
       "0  Adventure|Animation|Children|Comedy|Fantasy  \n",
       "1                   Adventure|Children|Fantasy  \n",
       "2                               Comedy|Romance  \n",
       "3                         Comedy|Drama|Romance  \n",
       "4                                       Comedy  \n",
       "5                        Action|Crime|Thriller  \n",
       "6                               Comedy|Romance  \n",
       "7                           Adventure|Children  \n",
       "8                                       Action  \n",
       "9                    Action|Adventure|Thriller  "
      ]
     },
     "execution_count": 3,
     "metadata": {},
     "output_type": "execute_result"
    }
   ],
   "source": [
    "movies.head(10)"
   ]
  },
  {
   "cell_type": "code",
   "execution_count": 4,
   "id": "ed4a35a6-2f4f-49e9-b65b-97d70b2ed379",
   "metadata": {},
   "outputs": [
    {
     "name": "stdout",
     "output_type": "stream",
     "text": [
      "Extaction Successful\n"
     ]
    }
   ],
   "source": [
    "with zipfile.ZipFile(\"C:/Users/Hp Pc/rec_datasets/ratings.zip\") as file:\n",
    "    rate = file.open(\"ratings.csv\")\n",
    "    ratings = pd.read_csv(rate)\n",
    "    print(\"Extaction Successful\")"
   ]
  },
  {
   "cell_type": "code",
   "execution_count": 5,
   "id": "6ff2d825-7093-4db5-a813-133267a12256",
   "metadata": {},
   "outputs": [
    {
     "data": {
      "text/html": [
       "<div>\n",
       "<style scoped>\n",
       "    .dataframe tbody tr th:only-of-type {\n",
       "        vertical-align: middle;\n",
       "    }\n",
       "\n",
       "    .dataframe tbody tr th {\n",
       "        vertical-align: top;\n",
       "    }\n",
       "\n",
       "    .dataframe thead th {\n",
       "        text-align: right;\n",
       "    }\n",
       "</style>\n",
       "<table border=\"1\" class=\"dataframe\">\n",
       "  <thead>\n",
       "    <tr style=\"text-align: right;\">\n",
       "      <th></th>\n",
       "      <th>userId</th>\n",
       "      <th>movieId</th>\n",
       "      <th>rating</th>\n",
       "      <th>timestamp</th>\n",
       "    </tr>\n",
       "  </thead>\n",
       "  <tbody>\n",
       "    <tr>\n",
       "      <th>0</th>\n",
       "      <td>1</td>\n",
       "      <td>296</td>\n",
       "      <td>5.0</td>\n",
       "      <td>1147880044</td>\n",
       "    </tr>\n",
       "    <tr>\n",
       "      <th>1</th>\n",
       "      <td>1</td>\n",
       "      <td>306</td>\n",
       "      <td>3.5</td>\n",
       "      <td>1147868817</td>\n",
       "    </tr>\n",
       "    <tr>\n",
       "      <th>2</th>\n",
       "      <td>1</td>\n",
       "      <td>307</td>\n",
       "      <td>5.0</td>\n",
       "      <td>1147868828</td>\n",
       "    </tr>\n",
       "    <tr>\n",
       "      <th>3</th>\n",
       "      <td>1</td>\n",
       "      <td>665</td>\n",
       "      <td>5.0</td>\n",
       "      <td>1147878820</td>\n",
       "    </tr>\n",
       "    <tr>\n",
       "      <th>4</th>\n",
       "      <td>1</td>\n",
       "      <td>899</td>\n",
       "      <td>3.5</td>\n",
       "      <td>1147868510</td>\n",
       "    </tr>\n",
       "    <tr>\n",
       "      <th>5</th>\n",
       "      <td>1</td>\n",
       "      <td>1088</td>\n",
       "      <td>4.0</td>\n",
       "      <td>1147868495</td>\n",
       "    </tr>\n",
       "    <tr>\n",
       "      <th>6</th>\n",
       "      <td>1</td>\n",
       "      <td>1175</td>\n",
       "      <td>3.5</td>\n",
       "      <td>1147868826</td>\n",
       "    </tr>\n",
       "    <tr>\n",
       "      <th>7</th>\n",
       "      <td>1</td>\n",
       "      <td>1217</td>\n",
       "      <td>3.5</td>\n",
       "      <td>1147878326</td>\n",
       "    </tr>\n",
       "    <tr>\n",
       "      <th>8</th>\n",
       "      <td>1</td>\n",
       "      <td>1237</td>\n",
       "      <td>5.0</td>\n",
       "      <td>1147868839</td>\n",
       "    </tr>\n",
       "    <tr>\n",
       "      <th>9</th>\n",
       "      <td>1</td>\n",
       "      <td>1250</td>\n",
       "      <td>4.0</td>\n",
       "      <td>1147868414</td>\n",
       "    </tr>\n",
       "  </tbody>\n",
       "</table>\n",
       "</div>"
      ],
      "text/plain": [
       "   userId  movieId  rating   timestamp\n",
       "0       1      296     5.0  1147880044\n",
       "1       1      306     3.5  1147868817\n",
       "2       1      307     5.0  1147868828\n",
       "3       1      665     5.0  1147878820\n",
       "4       1      899     3.5  1147868510\n",
       "5       1     1088     4.0  1147868495\n",
       "6       1     1175     3.5  1147868826\n",
       "7       1     1217     3.5  1147878326\n",
       "8       1     1237     5.0  1147868839\n",
       "9       1     1250     4.0  1147868414"
      ]
     },
     "execution_count": 5,
     "metadata": {},
     "output_type": "execute_result"
    }
   ],
   "source": [
    "ratings.head(10)"
   ]
  },
  {
   "cell_type": "code",
   "execution_count": null,
   "id": "f6acb3e8-e36b-438e-9303-6ca2b5a1e6bc",
   "metadata": {},
   "outputs": [],
   "source": []
  },
  {
   "cell_type": "markdown",
   "id": "564ddc21-953f-41fa-92e2-394cb3b538e5",
   "metadata": {},
   "source": [
    "DEVELOP A SEARCH"
   ]
  },
  {
   "cell_type": "code",
   "execution_count": 6,
   "id": "cf6e54f8-4625-4873-b1e8-914e8f16df50",
   "metadata": {},
   "outputs": [],
   "source": [
    "def clean_text(text):\n",
    "    return re.sub(r'[^a-zA-Z0-9 ]', \"\", text)"
   ]
  },
  {
   "cell_type": "code",
   "execution_count": 7,
   "id": "60608512-c732-4f6d-95c4-f72a9f0dec6a",
   "metadata": {},
   "outputs": [],
   "source": [
    "movies['title'] = movies['title'].apply(clean_text)"
   ]
  },
  {
   "cell_type": "code",
   "execution_count": 8,
   "id": "e7b8c21b-2450-45d3-849a-b3d94a840143",
   "metadata": {},
   "outputs": [
    {
     "data": {
      "text/plain": [
       "0                          Toy Story 1995\n",
       "1                            Jumanji 1995\n",
       "2                   Grumpier Old Men 1995\n",
       "3                  Waiting to Exhale 1995\n",
       "4        Father of the Bride Part II 1995\n",
       "                       ...               \n",
       "62418                             We 2018\n",
       "62419             Window of the Soul 2001\n",
       "62420                      Bad Poems 2018\n",
       "62421                   A Girl Thing 2001\n",
       "62422         Women of Devils Island 1962\n",
       "Name: title, Length: 62423, dtype: object"
      ]
     },
     "execution_count": 8,
     "metadata": {},
     "output_type": "execute_result"
    }
   ],
   "source": [
    "movies['title']"
   ]
  },
  {
   "cell_type": "code",
   "execution_count": 9,
   "id": "078aeb79-0508-493d-b35e-ced1ff21ad3e",
   "metadata": {},
   "outputs": [],
   "source": [
    "movies['tags'] = movies['title'].apply(clean_text) +\" \" + movies['genres'].apply(clean_text)"
   ]
  },
  {
   "cell_type": "code",
   "execution_count": 10,
   "id": "e0278b60-d902-4034-b1ed-9f76f2b8d1bf",
   "metadata": {},
   "outputs": [],
   "source": [
    "vectorizer = TfidfVectorizer(ngram_range=(1,2), stop_words ='english')\n",
    "\n",
    "title_vec = vectorizer.fit_transform(movies['title'])\n",
    "tags_vec = vectorizer.fit_transform(movies['tags'])"
   ]
  },
  {
   "cell_type": "code",
   "execution_count": 11,
   "id": "37a9c705-ea36-4f30-997e-708b655ec9c3",
   "metadata": {},
   "outputs": [
    {
     "name": "stdout",
     "output_type": "stream",
     "text": [
      "['00' '00 awakening' '00 schneider' ... 'zyzzyx rd' 'zzero' 'zzero 1974']\n"
     ]
    }
   ],
   "source": [
    "print(vectorizer.get_feature_names_out())"
   ]
  },
  {
   "cell_type": "code",
   "execution_count": null,
   "id": "cb2e23df-a07e-4ed8-bdf4-93bf53b99679",
   "metadata": {},
   "outputs": [],
   "source": [
    "title = \"Toy Story\"\n",
    "\n",
    "title = clean_text(title)\n",
    "word_vec  = vectorizer.transform([title])\n",
    "similarity = cosine_similarity(word_vec, title_vec)"
   ]
  },
  {
   "cell_type": "raw",
   "id": "02f538ce-26d5-4a48-9d8d-07b9f7b4799f",
   "metadata": {},
   "source": [
    "from scipy.sparse import hstack\n",
    "\n",
    "# Pad smaller matrix with zeros\n",
    "if word_vec.shape[1] > title_vec.shape[1]:\n",
    "    diff = word_vec.shape[1] - title_vec.shape[1]\n",
    "    title_vec = hstack([title_vec, np.zeros((title_vec.shape[0], diff))])\n",
    "elif title_vec.shape[1] > word_vec.shape[1]:\n",
    "    diff = title_vec.shape[1] - word_vec.shape[1]\n",
    "    word_vec = hstack([word_vec, np.zeros((word_vec.shape[0], diff))])\n"
   ]
  },
  {
   "cell_type": "code",
   "execution_count": 21,
   "id": "f8862905-6f80-4975-b2e7-5049ed33b68e",
   "metadata": {},
   "outputs": [],
   "source": [
    "#search function\n",
    "\n",
    "def search(title):\n",
    "    title = clean_text(title)\n",
    "    word_vec = vectorizer.transform([title])\n",
    "    similarity = cosine_similarity(word_vec, title_vec)\n",
    "    indices = np.argpartition(similarity, -10)[-10:] #Top 10 in similarity\n",
    "    results = movies.iloc[indices][::-1]\n",
    "    return results"
   ]
  },
  {
   "cell_type": "code",
   "execution_count": 23,
   "id": "50f074af-1b2c-4708-8139-878605b3e39e",
   "metadata": {},
   "outputs": [
    {
     "data": {
      "application/vnd.jupyter.widget-view+json": {
       "model_id": "a85a3f0764ed48eab107443d82ce9a54",
       "version_major": 2,
       "version_minor": 0
      },
      "text/plain": [
       "Text(value='', description='Moive Title: ')"
      ]
     },
     "metadata": {},
     "output_type": "display_data"
    },
    {
     "data": {
      "application/vnd.jupyter.widget-view+json": {
       "model_id": "a06d8335a93447839d82bf46c312ae4e",
       "version_major": 2,
       "version_minor": 0
      },
      "text/plain": [
       "Output()"
      ]
     },
     "metadata": {},
     "output_type": "display_data"
    }
   ],
   "source": [
    "import ipywidgets as widgets\n",
    "from IPython.display import display\n",
    "\n",
    "movie_input = widgets.Text(\n",
    "    value = \"\",\n",
    "    description = \"Moive Title: \",\n",
    "    disabled = False\n",
    ")\n",
    "\n",
    "search_list = widgets.Output()\n",
    "\n",
    "def on_type(data):\n",
    "    with search_list:\n",
    "        search_list.clear_output()\n",
    "        title = data['new']\n",
    "        if len(title) > 4:\n",
    "            display(search(title))\n",
    "\n",
    "movie_input.observe(on_type, names='value')\n",
    "display(movie_input, search_list)"
   ]
  },
  {
   "cell_type": "code",
   "execution_count": null,
   "id": "d4b58d2c-08f1-47f1-948b-2360a4bb3a46",
   "metadata": {},
   "outputs": [],
   "source": []
  },
  {
   "cell_type": "markdown",
   "id": "f4f8a5c4-27f7-47da-b19b-536d9d226838",
   "metadata": {},
   "source": [
    "RECOMMENDATION SYSTEM"
   ]
  },
  {
   "cell_type": "raw",
   "id": "23729a62-7cc0-49c1-9dc7-f5d2da464997",
   "metadata": {},
   "source": [
    "Recommendation based on:\n",
    "* similar users who watched the same movies and/or genre as us -- collaborative filtering\n",
    "*  "
   ]
  },
  {
   "cell_type": "code",
   "execution_count": 26,
   "id": "de47f82c-3923-45f3-abe8-4dbac502c751",
   "metadata": {},
   "outputs": [
    {
     "data": {
      "text/html": [
       "<div>\n",
       "<style scoped>\n",
       "    .dataframe tbody tr th:only-of-type {\n",
       "        vertical-align: middle;\n",
       "    }\n",
       "\n",
       "    .dataframe tbody tr th {\n",
       "        vertical-align: top;\n",
       "    }\n",
       "\n",
       "    .dataframe thead th {\n",
       "        text-align: right;\n",
       "    }\n",
       "</style>\n",
       "<table border=\"1\" class=\"dataframe\">\n",
       "  <thead>\n",
       "    <tr style=\"text-align: right;\">\n",
       "      <th></th>\n",
       "      <th>userId</th>\n",
       "      <th>movieId</th>\n",
       "      <th>rating</th>\n",
       "      <th>timestamp</th>\n",
       "    </tr>\n",
       "  </thead>\n",
       "  <tbody>\n",
       "    <tr>\n",
       "      <th>0</th>\n",
       "      <td>1</td>\n",
       "      <td>296</td>\n",
       "      <td>5.0</td>\n",
       "      <td>1147880044</td>\n",
       "    </tr>\n",
       "    <tr>\n",
       "      <th>1</th>\n",
       "      <td>1</td>\n",
       "      <td>306</td>\n",
       "      <td>3.5</td>\n",
       "      <td>1147868817</td>\n",
       "    </tr>\n",
       "    <tr>\n",
       "      <th>2</th>\n",
       "      <td>1</td>\n",
       "      <td>307</td>\n",
       "      <td>5.0</td>\n",
       "      <td>1147868828</td>\n",
       "    </tr>\n",
       "    <tr>\n",
       "      <th>3</th>\n",
       "      <td>1</td>\n",
       "      <td>665</td>\n",
       "      <td>5.0</td>\n",
       "      <td>1147878820</td>\n",
       "    </tr>\n",
       "    <tr>\n",
       "      <th>4</th>\n",
       "      <td>1</td>\n",
       "      <td>899</td>\n",
       "      <td>3.5</td>\n",
       "      <td>1147868510</td>\n",
       "    </tr>\n",
       "  </tbody>\n",
       "</table>\n",
       "</div>"
      ],
      "text/plain": [
       "   userId  movieId  rating   timestamp\n",
       "0       1      296     5.0  1147880044\n",
       "1       1      306     3.5  1147868817\n",
       "2       1      307     5.0  1147868828\n",
       "3       1      665     5.0  1147878820\n",
       "4       1      899     3.5  1147868510"
      ]
     },
     "execution_count": 26,
     "metadata": {},
     "output_type": "execute_result"
    }
   ],
   "source": [
    "ratings.head()"
   ]
  },
  {
   "cell_type": "code",
   "execution_count": 29,
   "id": "4dc3917b-c2f9-476f-a97c-1b10b100707c",
   "metadata": {},
   "outputs": [],
   "source": [
    "movie_id = 2\n",
    "\n",
    "similar_users = ratings[(ratings['movieId'] == movie_id) & (ratings['rating'] >= 4.0)]['userId'].unique()"
   ]
  },
  {
   "cell_type": "code",
   "execution_count": 34,
   "id": "903dc5d3-42a6-4b08-9283-d0e610522166",
   "metadata": {},
   "outputs": [],
   "source": [
    "similar_users_movies = ratings[(ratings['userId'].isin(similar_users)) & (ratings['rating'] >= 4.0)]['movieId']"
   ]
  },
  {
   "cell_type": "code",
   "execution_count": 37,
   "id": "9b62e7b9-e5aa-495f-9bb8-750af3adf891",
   "metadata": {},
   "outputs": [
    {
     "data": {
      "text/plain": [
       "movieId\n",
       "2        8276\n",
       "356      5386\n",
       "480      4984\n",
       "318      4496\n",
       "364      4337\n",
       "         ... \n",
       "25851       1\n",
       "8518        1\n",
       "7571        1\n",
       "7479        1\n",
       "7066        1\n",
       "Name: count, Length: 22270, dtype: int64"
      ]
     },
     "execution_count": 37,
     "metadata": {},
     "output_type": "execute_result"
    }
   ],
   "source": [
    "similar_users_movies.value_counts()"
   ]
  },
  {
   "cell_type": "code",
   "execution_count": 42,
   "id": "5e9e14ec-067b-44c0-b885-d5b56aea7099",
   "metadata": {},
   "outputs": [],
   "source": [
    "similar_users_rec = similar_users_movies.value_counts() / len(similar_users_movies) * 10**2\n",
    "#the percentage of distribution of each movie in this cluster; similar_users\n",
    "\n",
    "similar_users_rec = similar_users_rec[similar_users_rec > .1]"
   ]
  },
  {
   "cell_type": "code",
   "execution_count": 43,
   "id": "94051342-7811-4bb6-8255-f16b51810120",
   "metadata": {},
   "outputs": [
    {
     "data": {
      "text/plain": [
       "movieId\n",
       "2        0.606223\n",
       "356      0.394528\n",
       "480      0.365081\n",
       "318      0.329335\n",
       "364      0.317688\n",
       "           ...   \n",
       "2797     0.102551\n",
       "1259     0.101818\n",
       "21       0.101525\n",
       "44191    0.101232\n",
       "40815    0.100134\n",
       "Name: count, Length: 147, dtype: float64"
      ]
     },
     "execution_count": 43,
     "metadata": {},
     "output_type": "execute_result"
    }
   ],
   "source": [
    "similar_users_rec"
   ]
  },
  {
   "cell_type": "code",
   "execution_count": 49,
   "id": "f6ad1fe5-62f7-4da4-b613-658b539d7cca",
   "metadata": {},
   "outputs": [],
   "source": [
    "#Compare these movies above to all users watching and rating\n",
    "\n",
    "all_users = ratings[(ratings['movieId'].isin(similar_users_rec.index)) & (ratings['rating'] >= 4)]['userId'].unique()"
   ]
  },
  {
   "cell_type": "code",
   "execution_count": 50,
   "id": "661fa7a9-73ff-4412-a6aa-0d64014d0613",
   "metadata": {},
   "outputs": [
    {
     "data": {
      "text/plain": [
       "157896"
      ]
     },
     "execution_count": 50,
     "metadata": {},
     "output_type": "execute_result"
    }
   ],
   "source": [
    "len(all_users)"
   ]
  },
  {
   "cell_type": "code",
   "execution_count": 51,
   "id": "5414eb61-8c32-4bff-8f4e-7d2caa6e3f74",
   "metadata": {},
   "outputs": [],
   "source": [
    "all_users_movies = ratings[(ratings['userId'].isin(all_users)) & (ratings['rating'] > 4)]['movieId']"
   ]
  },
  {
   "cell_type": "code",
   "execution_count": 62,
   "id": "a80d02d7-6607-41cb-92c6-7bde70a6497a",
   "metadata": {},
   "outputs": [],
   "source": [
    "all_users_rec = all_users_movies.value_counts() / len(all_users_movies) * 10**2\n",
    "\n",
    "#all_users_rec = all_users_rec[all_users_rec > .1]"
   ]
  },
  {
   "cell_type": "code",
   "execution_count": 63,
   "id": "8aed87bd-f4c8-4027-bdd0-353f094542b1",
   "metadata": {},
   "outputs": [],
   "source": [
    "users_rec = pd.concat([similar_users_rec, all_users_rec], axis =1)\n",
    "users_rec.columns = ['similar_users', 'all_users']"
   ]
  },
  {
   "cell_type": "code",
   "execution_count": 74,
   "id": "5aa7441f-7d49-428b-89ba-2b4598f5cf68",
   "metadata": {},
   "outputs": [
    {
     "data": {
      "text/html": [
       "<div>\n",
       "<style scoped>\n",
       "    .dataframe tbody tr th:only-of-type {\n",
       "        vertical-align: middle;\n",
       "    }\n",
       "\n",
       "    .dataframe tbody tr th {\n",
       "        vertical-align: top;\n",
       "    }\n",
       "\n",
       "    .dataframe thead th {\n",
       "        text-align: right;\n",
       "    }\n",
       "</style>\n",
       "<table border=\"1\" class=\"dataframe\">\n",
       "  <thead>\n",
       "    <tr style=\"text-align: right;\">\n",
       "      <th></th>\n",
       "      <th>similar_users</th>\n",
       "      <th>all_users</th>\n",
       "      <th>scores</th>\n",
       "    </tr>\n",
       "    <tr>\n",
       "      <th>movieId</th>\n",
       "      <th></th>\n",
       "      <th></th>\n",
       "      <th></th>\n",
       "    </tr>\n",
       "  </thead>\n",
       "  <tbody>\n",
       "    <tr>\n",
       "      <th>2</th>\n",
       "      <td>0.606223</td>\n",
       "      <td>0.046112</td>\n",
       "      <td>13.146755</td>\n",
       "    </tr>\n",
       "    <tr>\n",
       "      <th>317</th>\n",
       "      <td>0.126138</td>\n",
       "      <td>0.024707</td>\n",
       "      <td>5.105309</td>\n",
       "    </tr>\n",
       "    <tr>\n",
       "      <th>153</th>\n",
       "      <td>0.104968</td>\n",
       "      <td>0.024206</td>\n",
       "      <td>4.336499</td>\n",
       "    </tr>\n",
       "    <tr>\n",
       "      <th>208</th>\n",
       "      <td>0.108045</td>\n",
       "      <td>0.027318</td>\n",
       "      <td>3.955087</td>\n",
       "    </tr>\n",
       "    <tr>\n",
       "      <th>350</th>\n",
       "      <td>0.102697</td>\n",
       "      <td>0.027456</td>\n",
       "      <td>3.740405</td>\n",
       "    </tr>\n",
       "    <tr>\n",
       "      <th>185</th>\n",
       "      <td>0.113246</td>\n",
       "      <td>0.032176</td>\n",
       "      <td>3.519526</td>\n",
       "    </tr>\n",
       "    <tr>\n",
       "      <th>367</th>\n",
       "      <td>0.195360</td>\n",
       "      <td>0.058803</td>\n",
       "      <td>3.322290</td>\n",
       "    </tr>\n",
       "    <tr>\n",
       "      <th>368</th>\n",
       "      <td>0.113099</td>\n",
       "      <td>0.034874</td>\n",
       "      <td>3.243116</td>\n",
       "    </tr>\n",
       "    <tr>\n",
       "      <th>586</th>\n",
       "      <td>0.168477</td>\n",
       "      <td>0.053685</td>\n",
       "      <td>3.138249</td>\n",
       "    </tr>\n",
       "    <tr>\n",
       "      <th>500</th>\n",
       "      <td>0.239163</td>\n",
       "      <td>0.080329</td>\n",
       "      <td>2.977317</td>\n",
       "    </tr>\n",
       "    <tr>\n",
       "      <th>292</th>\n",
       "      <td>0.140788</td>\n",
       "      <td>0.049864</td>\n",
       "      <td>2.823444</td>\n",
       "    </tr>\n",
       "    <tr>\n",
       "      <th>736</th>\n",
       "      <td>0.158588</td>\n",
       "      <td>0.057523</td>\n",
       "      <td>2.756933</td>\n",
       "    </tr>\n",
       "    <tr>\n",
       "      <th>454</th>\n",
       "      <td>0.131631</td>\n",
       "      <td>0.049587</td>\n",
       "      <td>2.654545</td>\n",
       "    </tr>\n",
       "    <tr>\n",
       "      <th>2617</th>\n",
       "      <td>0.104309</td>\n",
       "      <td>0.039628</td>\n",
       "      <td>2.632185</td>\n",
       "    </tr>\n",
       "    <tr>\n",
       "      <th>440</th>\n",
       "      <td>0.115736</td>\n",
       "      <td>0.044487</td>\n",
       "      <td>2.601587</td>\n",
       "    </tr>\n",
       "    <tr>\n",
       "      <th>329</th>\n",
       "      <td>0.130606</td>\n",
       "      <td>0.050573</td>\n",
       "      <td>2.582537</td>\n",
       "    </tr>\n",
       "    <tr>\n",
       "      <th>10</th>\n",
       "      <td>0.147307</td>\n",
       "      <td>0.057679</td>\n",
       "      <td>2.553919</td>\n",
       "    </tr>\n",
       "    <tr>\n",
       "      <th>316</th>\n",
       "      <td>0.180050</td>\n",
       "      <td>0.072133</td>\n",
       "      <td>2.496081</td>\n",
       "    </tr>\n",
       "    <tr>\n",
       "      <th>587</th>\n",
       "      <td>0.185690</td>\n",
       "      <td>0.078842</td>\n",
       "      <td>2.355235</td>\n",
       "    </tr>\n",
       "    <tr>\n",
       "      <th>474</th>\n",
       "      <td>0.112293</td>\n",
       "      <td>0.049414</td>\n",
       "      <td>2.272485</td>\n",
       "    </tr>\n",
       "  </tbody>\n",
       "</table>\n",
       "</div>"
      ],
      "text/plain": [
       "         similar_users  all_users     scores\n",
       "movieId                                     \n",
       "2             0.606223   0.046112  13.146755\n",
       "317           0.126138   0.024707   5.105309\n",
       "153           0.104968   0.024206   4.336499\n",
       "208           0.108045   0.027318   3.955087\n",
       "350           0.102697   0.027456   3.740405\n",
       "185           0.113246   0.032176   3.519526\n",
       "367           0.195360   0.058803   3.322290\n",
       "368           0.113099   0.034874   3.243116\n",
       "586           0.168477   0.053685   3.138249\n",
       "500           0.239163   0.080329   2.977317\n",
       "292           0.140788   0.049864   2.823444\n",
       "736           0.158588   0.057523   2.756933\n",
       "454           0.131631   0.049587   2.654545\n",
       "2617          0.104309   0.039628   2.632185\n",
       "440           0.115736   0.044487   2.601587\n",
       "329           0.130606   0.050573   2.582537\n",
       "10            0.147307   0.057679   2.553919\n",
       "316           0.180050   0.072133   2.496081\n",
       "587           0.185690   0.078842   2.355235\n",
       "474           0.112293   0.049414   2.272485"
      ]
     },
     "execution_count": 74,
     "metadata": {},
     "output_type": "execute_result"
    }
   ],
   "source": [
    "users_rec['scores'] = users_rec['similar_users'] / users_rec['all_users']\n",
    "users_rec = users_rec.sort_values('scores', ascending=False).head(20)\n",
    "users_rec"
   ]
  },
  {
   "cell_type": "code",
   "execution_count": 75,
   "id": "138bf929-843e-4a8e-90de-e26352cece64",
   "metadata": {},
   "outputs": [],
   "source": [
    "users_rec_result = users_rec.merge(movies, left_index =True , right_on = 'movieId')[['title', 'genres', 'scores']]"
   ]
  },
  {
   "cell_type": "code",
   "execution_count": 76,
   "id": "564d784d-a508-4585-8d55-99e7bfb18dbe",
   "metadata": {},
   "outputs": [
    {
     "data": {
      "text/html": [
       "<div>\n",
       "<style scoped>\n",
       "    .dataframe tbody tr th:only-of-type {\n",
       "        vertical-align: middle;\n",
       "    }\n",
       "\n",
       "    .dataframe tbody tr th {\n",
       "        vertical-align: top;\n",
       "    }\n",
       "\n",
       "    .dataframe thead th {\n",
       "        text-align: right;\n",
       "    }\n",
       "</style>\n",
       "<table border=\"1\" class=\"dataframe\">\n",
       "  <thead>\n",
       "    <tr style=\"text-align: right;\">\n",
       "      <th></th>\n",
       "      <th>title</th>\n",
       "      <th>genres</th>\n",
       "      <th>scores</th>\n",
       "    </tr>\n",
       "  </thead>\n",
       "  <tbody>\n",
       "    <tr>\n",
       "      <th>1</th>\n",
       "      <td>Jumanji 1995</td>\n",
       "      <td>Adventure|Children|Fantasy</td>\n",
       "      <td>13.146755</td>\n",
       "    </tr>\n",
       "    <tr>\n",
       "      <th>313</th>\n",
       "      <td>Santa Clause The 1994</td>\n",
       "      <td>Comedy|Drama|Fantasy</td>\n",
       "      <td>5.105309</td>\n",
       "    </tr>\n",
       "    <tr>\n",
       "      <th>151</th>\n",
       "      <td>Batman Forever 1995</td>\n",
       "      <td>Action|Adventure|Comedy|Crime</td>\n",
       "      <td>4.336499</td>\n",
       "    </tr>\n",
       "    <tr>\n",
       "      <th>206</th>\n",
       "      <td>Waterworld 1995</td>\n",
       "      <td>Action|Adventure|Sci-Fi</td>\n",
       "      <td>3.955087</td>\n",
       "    </tr>\n",
       "    <tr>\n",
       "      <th>345</th>\n",
       "      <td>Client The 1994</td>\n",
       "      <td>Drama|Mystery|Thriller</td>\n",
       "      <td>3.740405</td>\n",
       "    </tr>\n",
       "    <tr>\n",
       "      <th>183</th>\n",
       "      <td>Net The 1995</td>\n",
       "      <td>Action|Crime|Thriller</td>\n",
       "      <td>3.519526</td>\n",
       "    </tr>\n",
       "    <tr>\n",
       "      <th>362</th>\n",
       "      <td>Mask The 1994</td>\n",
       "      <td>Action|Comedy|Crime|Fantasy</td>\n",
       "      <td>3.322290</td>\n",
       "    </tr>\n",
       "    <tr>\n",
       "      <th>363</th>\n",
       "      <td>Maverick 1994</td>\n",
       "      <td>Adventure|Comedy|Western</td>\n",
       "      <td>3.243116</td>\n",
       "    </tr>\n",
       "    <tr>\n",
       "      <th>578</th>\n",
       "      <td>Home Alone 1990</td>\n",
       "      <td>Children|Comedy</td>\n",
       "      <td>3.138249</td>\n",
       "    </tr>\n",
       "    <tr>\n",
       "      <th>495</th>\n",
       "      <td>Mrs Doubtfire 1993</td>\n",
       "      <td>Comedy|Drama</td>\n",
       "      <td>2.977317</td>\n",
       "    </tr>\n",
       "    <tr>\n",
       "      <th>288</th>\n",
       "      <td>Outbreak 1995</td>\n",
       "      <td>Action|Drama|Sci-Fi|Thriller</td>\n",
       "      <td>2.823444</td>\n",
       "    </tr>\n",
       "    <tr>\n",
       "      <th>721</th>\n",
       "      <td>Twister 1996</td>\n",
       "      <td>Action|Adventure|Romance|Thriller</td>\n",
       "      <td>2.756933</td>\n",
       "    </tr>\n",
       "    <tr>\n",
       "      <th>449</th>\n",
       "      <td>Firm The 1993</td>\n",
       "      <td>Drama|Thriller</td>\n",
       "      <td>2.654545</td>\n",
       "    </tr>\n",
       "    <tr>\n",
       "      <th>2526</th>\n",
       "      <td>Mummy The 1999</td>\n",
       "      <td>Action|Adventure|Comedy|Fantasy|Horror|Thriller</td>\n",
       "      <td>2.632185</td>\n",
       "    </tr>\n",
       "    <tr>\n",
       "      <th>435</th>\n",
       "      <td>Dave 1993</td>\n",
       "      <td>Comedy|Romance</td>\n",
       "      <td>2.601587</td>\n",
       "    </tr>\n",
       "    <tr>\n",
       "      <th>324</th>\n",
       "      <td>Star Trek Generations 1994</td>\n",
       "      <td>Adventure|Drama|Sci-Fi</td>\n",
       "      <td>2.582537</td>\n",
       "    </tr>\n",
       "    <tr>\n",
       "      <th>9</th>\n",
       "      <td>GoldenEye 1995</td>\n",
       "      <td>Action|Adventure|Thriller</td>\n",
       "      <td>2.553919</td>\n",
       "    </tr>\n",
       "    <tr>\n",
       "      <th>312</th>\n",
       "      <td>Stargate 1994</td>\n",
       "      <td>Action|Adventure|Sci-Fi</td>\n",
       "      <td>2.496081</td>\n",
       "    </tr>\n",
       "    <tr>\n",
       "      <th>579</th>\n",
       "      <td>Ghost 1990</td>\n",
       "      <td>Comedy|Drama|Fantasy|Romance|Thriller</td>\n",
       "      <td>2.355235</td>\n",
       "    </tr>\n",
       "    <tr>\n",
       "      <th>469</th>\n",
       "      <td>In the Line of Fire 1993</td>\n",
       "      <td>Action|Thriller</td>\n",
       "      <td>2.272485</td>\n",
       "    </tr>\n",
       "  </tbody>\n",
       "</table>\n",
       "</div>"
      ],
      "text/plain": [
       "                           title  \\\n",
       "1                   Jumanji 1995   \n",
       "313        Santa Clause The 1994   \n",
       "151          Batman Forever 1995   \n",
       "206              Waterworld 1995   \n",
       "345              Client The 1994   \n",
       "183                 Net The 1995   \n",
       "362                Mask The 1994   \n",
       "363                Maverick 1994   \n",
       "578              Home Alone 1990   \n",
       "495           Mrs Doubtfire 1993   \n",
       "288                Outbreak 1995   \n",
       "721                 Twister 1996   \n",
       "449                Firm The 1993   \n",
       "2526              Mummy The 1999   \n",
       "435                    Dave 1993   \n",
       "324   Star Trek Generations 1994   \n",
       "9                 GoldenEye 1995   \n",
       "312                Stargate 1994   \n",
       "579                   Ghost 1990   \n",
       "469     In the Line of Fire 1993   \n",
       "\n",
       "                                               genres     scores  \n",
       "1                          Adventure|Children|Fantasy  13.146755  \n",
       "313                              Comedy|Drama|Fantasy   5.105309  \n",
       "151                     Action|Adventure|Comedy|Crime   4.336499  \n",
       "206                           Action|Adventure|Sci-Fi   3.955087  \n",
       "345                            Drama|Mystery|Thriller   3.740405  \n",
       "183                             Action|Crime|Thriller   3.519526  \n",
       "362                       Action|Comedy|Crime|Fantasy   3.322290  \n",
       "363                          Adventure|Comedy|Western   3.243116  \n",
       "578                                   Children|Comedy   3.138249  \n",
       "495                                      Comedy|Drama   2.977317  \n",
       "288                      Action|Drama|Sci-Fi|Thriller   2.823444  \n",
       "721                 Action|Adventure|Romance|Thriller   2.756933  \n",
       "449                                    Drama|Thriller   2.654545  \n",
       "2526  Action|Adventure|Comedy|Fantasy|Horror|Thriller   2.632185  \n",
       "435                                    Comedy|Romance   2.601587  \n",
       "324                            Adventure|Drama|Sci-Fi   2.582537  \n",
       "9                           Action|Adventure|Thriller   2.553919  \n",
       "312                           Action|Adventure|Sci-Fi   2.496081  \n",
       "579             Comedy|Drama|Fantasy|Romance|Thriller   2.355235  \n",
       "469                                   Action|Thriller   2.272485  "
      ]
     },
     "execution_count": 76,
     "metadata": {},
     "output_type": "execute_result"
    }
   ],
   "source": [
    "users_rec_result"
   ]
  },
  {
   "cell_type": "code",
   "execution_count": null,
   "id": "e0a2bc65-d6e3-42ac-a942-a035d1f7de8c",
   "metadata": {},
   "outputs": [],
   "source": []
  }
 ],
 "metadata": {
  "kernelspec": {
   "display_name": "Python 3 (ipykernel)",
   "language": "python",
   "name": "python3"
  },
  "language_info": {
   "codemirror_mode": {
    "name": "ipython",
    "version": 3
   },
   "file_extension": ".py",
   "mimetype": "text/x-python",
   "name": "python",
   "nbconvert_exporter": "python",
   "pygments_lexer": "ipython3",
   "version": "3.11.2"
  }
 },
 "nbformat": 4,
 "nbformat_minor": 5
}
