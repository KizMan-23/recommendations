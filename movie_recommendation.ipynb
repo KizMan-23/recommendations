{
 "cells": [
  {
   "cell_type": "code",
   "execution_count": 1,
   "id": "523f7b69-8563-4ffc-acae-2dd9824dcf87",
   "metadata": {},
   "outputs": [],
   "source": [
    "import pandas as pd\n",
    "import numpy as np\n",
    "import zipfile\n",
    "from sklearn.feature_extraction.text import TfidfVectorizer\n",
    "import regex as re\n",
    "from sklearn.metrics.pairwise import cosine_similarity"
   ]
  },
  {
   "cell_type": "code",
   "execution_count": 2,
   "id": "16ddb009-6fcd-494c-9b97-dfefb061b525",
   "metadata": {},
   "outputs": [
    {
     "name": "stdout",
     "output_type": "stream",
     "text": [
      "Extraction Successful\n"
     ]
    }
   ],
   "source": [
    "with zipfile.ZipFile(\"C:/Users/Hp Pc/rec_datasets/movies.zip\") as file:\n",
    "    file_name = file.namelist()\n",
    "    with file.open(file_name[0], 'r') as f:\n",
    "        movies = pd.read_csv(f)\n",
    "        print(\"Extraction Successful\")\n"
   ]
  },
  {
   "cell_type": "code",
   "execution_count": 3,
   "id": "149b86a8-8f64-411b-a64b-8762a5f639f6",
   "metadata": {},
   "outputs": [
    {
     "data": {
      "text/html": [
       "<div>\n",
       "<style scoped>\n",
       "    .dataframe tbody tr th:only-of-type {\n",
       "        vertical-align: middle;\n",
       "    }\n",
       "\n",
       "    .dataframe tbody tr th {\n",
       "        vertical-align: top;\n",
       "    }\n",
       "\n",
       "    .dataframe thead th {\n",
       "        text-align: right;\n",
       "    }\n",
       "</style>\n",
       "<table border=\"1\" class=\"dataframe\">\n",
       "  <thead>\n",
       "    <tr style=\"text-align: right;\">\n",
       "      <th></th>\n",
       "      <th>movieId</th>\n",
       "      <th>title</th>\n",
       "      <th>genres</th>\n",
       "    </tr>\n",
       "  </thead>\n",
       "  <tbody>\n",
       "    <tr>\n",
       "      <th>0</th>\n",
       "      <td>1</td>\n",
       "      <td>Toy Story (1995)</td>\n",
       "      <td>Adventure|Animation|Children|Comedy|Fantasy</td>\n",
       "    </tr>\n",
       "    <tr>\n",
       "      <th>1</th>\n",
       "      <td>2</td>\n",
       "      <td>Jumanji (1995)</td>\n",
       "      <td>Adventure|Children|Fantasy</td>\n",
       "    </tr>\n",
       "    <tr>\n",
       "      <th>2</th>\n",
       "      <td>3</td>\n",
       "      <td>Grumpier Old Men (1995)</td>\n",
       "      <td>Comedy|Romance</td>\n",
       "    </tr>\n",
       "    <tr>\n",
       "      <th>3</th>\n",
       "      <td>4</td>\n",
       "      <td>Waiting to Exhale (1995)</td>\n",
       "      <td>Comedy|Drama|Romance</td>\n",
       "    </tr>\n",
       "    <tr>\n",
       "      <th>4</th>\n",
       "      <td>5</td>\n",
       "      <td>Father of the Bride Part II (1995)</td>\n",
       "      <td>Comedy</td>\n",
       "    </tr>\n",
       "    <tr>\n",
       "      <th>5</th>\n",
       "      <td>6</td>\n",
       "      <td>Heat (1995)</td>\n",
       "      <td>Action|Crime|Thriller</td>\n",
       "    </tr>\n",
       "    <tr>\n",
       "      <th>6</th>\n",
       "      <td>7</td>\n",
       "      <td>Sabrina (1995)</td>\n",
       "      <td>Comedy|Romance</td>\n",
       "    </tr>\n",
       "    <tr>\n",
       "      <th>7</th>\n",
       "      <td>8</td>\n",
       "      <td>Tom and Huck (1995)</td>\n",
       "      <td>Adventure|Children</td>\n",
       "    </tr>\n",
       "    <tr>\n",
       "      <th>8</th>\n",
       "      <td>9</td>\n",
       "      <td>Sudden Death (1995)</td>\n",
       "      <td>Action</td>\n",
       "    </tr>\n",
       "    <tr>\n",
       "      <th>9</th>\n",
       "      <td>10</td>\n",
       "      <td>GoldenEye (1995)</td>\n",
       "      <td>Action|Adventure|Thriller</td>\n",
       "    </tr>\n",
       "  </tbody>\n",
       "</table>\n",
       "</div>"
      ],
      "text/plain": [
       "   movieId                               title  \\\n",
       "0        1                    Toy Story (1995)   \n",
       "1        2                      Jumanji (1995)   \n",
       "2        3             Grumpier Old Men (1995)   \n",
       "3        4            Waiting to Exhale (1995)   \n",
       "4        5  Father of the Bride Part II (1995)   \n",
       "5        6                         Heat (1995)   \n",
       "6        7                      Sabrina (1995)   \n",
       "7        8                 Tom and Huck (1995)   \n",
       "8        9                 Sudden Death (1995)   \n",
       "9       10                    GoldenEye (1995)   \n",
       "\n",
       "                                        genres  \n",
       "0  Adventure|Animation|Children|Comedy|Fantasy  \n",
       "1                   Adventure|Children|Fantasy  \n",
       "2                               Comedy|Romance  \n",
       "3                         Comedy|Drama|Romance  \n",
       "4                                       Comedy  \n",
       "5                        Action|Crime|Thriller  \n",
       "6                               Comedy|Romance  \n",
       "7                           Adventure|Children  \n",
       "8                                       Action  \n",
       "9                    Action|Adventure|Thriller  "
      ]
     },
     "execution_count": 3,
     "metadata": {},
     "output_type": "execute_result"
    }
   ],
   "source": [
    "movies.head(10)"
   ]
  },
  {
   "cell_type": "code",
   "execution_count": 4,
   "id": "ed4a35a6-2f4f-49e9-b65b-97d70b2ed379",
   "metadata": {},
   "outputs": [
    {
     "name": "stdout",
     "output_type": "stream",
     "text": [
      "Extaction Successful\n"
     ]
    }
   ],
   "source": [
    "with zipfile.ZipFile(\"C:/Users/Hp Pc/rec_datasets/ratings.zip\") as file:\n",
    "    rate = file.open(\"ratings.csv\")\n",
    "    ratings = pd.read_csv(rate)\n",
    "    print(\"Extaction Successful\")"
   ]
  },
  {
   "cell_type": "code",
   "execution_count": 5,
   "id": "6ff2d825-7093-4db5-a813-133267a12256",
   "metadata": {},
   "outputs": [
    {
     "data": {
      "text/html": [
       "<div>\n",
       "<style scoped>\n",
       "    .dataframe tbody tr th:only-of-type {\n",
       "        vertical-align: middle;\n",
       "    }\n",
       "\n",
       "    .dataframe tbody tr th {\n",
       "        vertical-align: top;\n",
       "    }\n",
       "\n",
       "    .dataframe thead th {\n",
       "        text-align: right;\n",
       "    }\n",
       "</style>\n",
       "<table border=\"1\" class=\"dataframe\">\n",
       "  <thead>\n",
       "    <tr style=\"text-align: right;\">\n",
       "      <th></th>\n",
       "      <th>userId</th>\n",
       "      <th>movieId</th>\n",
       "      <th>rating</th>\n",
       "      <th>timestamp</th>\n",
       "    </tr>\n",
       "  </thead>\n",
       "  <tbody>\n",
       "    <tr>\n",
       "      <th>0</th>\n",
       "      <td>1</td>\n",
       "      <td>296</td>\n",
       "      <td>5.0</td>\n",
       "      <td>1147880044</td>\n",
       "    </tr>\n",
       "    <tr>\n",
       "      <th>1</th>\n",
       "      <td>1</td>\n",
       "      <td>306</td>\n",
       "      <td>3.5</td>\n",
       "      <td>1147868817</td>\n",
       "    </tr>\n",
       "    <tr>\n",
       "      <th>2</th>\n",
       "      <td>1</td>\n",
       "      <td>307</td>\n",
       "      <td>5.0</td>\n",
       "      <td>1147868828</td>\n",
       "    </tr>\n",
       "    <tr>\n",
       "      <th>3</th>\n",
       "      <td>1</td>\n",
       "      <td>665</td>\n",
       "      <td>5.0</td>\n",
       "      <td>1147878820</td>\n",
       "    </tr>\n",
       "    <tr>\n",
       "      <th>4</th>\n",
       "      <td>1</td>\n",
       "      <td>899</td>\n",
       "      <td>3.5</td>\n",
       "      <td>1147868510</td>\n",
       "    </tr>\n",
       "    <tr>\n",
       "      <th>5</th>\n",
       "      <td>1</td>\n",
       "      <td>1088</td>\n",
       "      <td>4.0</td>\n",
       "      <td>1147868495</td>\n",
       "    </tr>\n",
       "    <tr>\n",
       "      <th>6</th>\n",
       "      <td>1</td>\n",
       "      <td>1175</td>\n",
       "      <td>3.5</td>\n",
       "      <td>1147868826</td>\n",
       "    </tr>\n",
       "    <tr>\n",
       "      <th>7</th>\n",
       "      <td>1</td>\n",
       "      <td>1217</td>\n",
       "      <td>3.5</td>\n",
       "      <td>1147878326</td>\n",
       "    </tr>\n",
       "    <tr>\n",
       "      <th>8</th>\n",
       "      <td>1</td>\n",
       "      <td>1237</td>\n",
       "      <td>5.0</td>\n",
       "      <td>1147868839</td>\n",
       "    </tr>\n",
       "    <tr>\n",
       "      <th>9</th>\n",
       "      <td>1</td>\n",
       "      <td>1250</td>\n",
       "      <td>4.0</td>\n",
       "      <td>1147868414</td>\n",
       "    </tr>\n",
       "  </tbody>\n",
       "</table>\n",
       "</div>"
      ],
      "text/plain": [
       "   userId  movieId  rating   timestamp\n",
       "0       1      296     5.0  1147880044\n",
       "1       1      306     3.5  1147868817\n",
       "2       1      307     5.0  1147868828\n",
       "3       1      665     5.0  1147878820\n",
       "4       1      899     3.5  1147868510\n",
       "5       1     1088     4.0  1147868495\n",
       "6       1     1175     3.5  1147868826\n",
       "7       1     1217     3.5  1147878326\n",
       "8       1     1237     5.0  1147868839\n",
       "9       1     1250     4.0  1147868414"
      ]
     },
     "execution_count": 5,
     "metadata": {},
     "output_type": "execute_result"
    }
   ],
   "source": [
    "ratings.head(10)"
   ]
  },
  {
   "cell_type": "code",
   "execution_count": null,
   "id": "f6acb3e8-e36b-438e-9303-6ca2b5a1e6bc",
   "metadata": {},
   "outputs": [],
   "source": []
  },
  {
   "cell_type": "markdown",
   "id": "564ddc21-953f-41fa-92e2-394cb3b538e5",
   "metadata": {},
   "source": [
    "DEVELOP A SEARCH"
   ]
  },
  {
   "cell_type": "code",
   "execution_count": 6,
   "id": "cf6e54f8-4625-4873-b1e8-914e8f16df50",
   "metadata": {},
   "outputs": [],
   "source": [
    "def clean_text(text):\n",
    "    return re.sub(r'[^a-zA-Z0-9 ]', \"\", text)"
   ]
  },
  {
   "cell_type": "code",
   "execution_count": 7,
   "id": "60608512-c732-4f6d-95c4-f72a9f0dec6a",
   "metadata": {},
   "outputs": [],
   "source": [
    "movies['title'] = movies['title'].apply(clean_text)"
   ]
  },
  {
   "cell_type": "code",
   "execution_count": 8,
   "id": "e7b8c21b-2450-45d3-849a-b3d94a840143",
   "metadata": {},
   "outputs": [
    {
     "data": {
      "text/plain": [
       "0                          Toy Story 1995\n",
       "1                            Jumanji 1995\n",
       "2                   Grumpier Old Men 1995\n",
       "3                  Waiting to Exhale 1995\n",
       "4        Father of the Bride Part II 1995\n",
       "                       ...               \n",
       "62418                             We 2018\n",
       "62419             Window of the Soul 2001\n",
       "62420                      Bad Poems 2018\n",
       "62421                   A Girl Thing 2001\n",
       "62422         Women of Devils Island 1962\n",
       "Name: title, Length: 62423, dtype: object"
      ]
     },
     "execution_count": 8,
     "metadata": {},
     "output_type": "execute_result"
    }
   ],
   "source": [
    "movies['title']"
   ]
  },
  {
   "cell_type": "code",
   "execution_count": 9,
   "id": "078aeb79-0508-493d-b35e-ced1ff21ad3e",
   "metadata": {},
   "outputs": [],
   "source": [
    "movies['tags'] = movies['title'].apply(clean_text) +\" \" + movies['genres'].apply(clean_text)"
   ]
  },
  {
   "cell_type": "code",
   "execution_count": 23,
   "id": "e0278b60-d902-4034-b1ed-9f76f2b8d1bf",
   "metadata": {},
   "outputs": [],
   "source": [
    "vectorizer = TfidfVectorizer(ngram_range=(1,2), stop_words ='english')\n",
    "\n",
    "title_vec = vectorizer.fit_transform(movies['title'])\n",
    "tags_vec = vectorizer.fit_transform(movies['tags'])"
   ]
  },
  {
   "cell_type": "code",
   "execution_count": 24,
   "id": "37a9c705-ea36-4f30-997e-708b655ec9c3",
   "metadata": {},
   "outputs": [
    {
     "name": "stdout",
     "output_type": "stream",
     "text": [
      "['00' '00 awakening' '00 schneider' ... 'zyzzyx rd' 'zzero' 'zzero 1974']\n"
     ]
    }
   ],
   "source": [
    "print(vectorizer.get_feature_names_out())"
   ]
  },
  {
   "cell_type": "code",
   "execution_count": null,
   "id": "cb2e23df-a07e-4ed8-bdf4-93bf53b99679",
   "metadata": {},
   "outputs": [],
   "source": [
    "title = \"Toy Story\"\n",
    "\n",
    "title = clean_text(title)\n",
    "word_vec  = vectorizer.transform([title])\n",
    "similarity = cosine_similarity(word_vec, title_vec)"
   ]
  },
  {
   "cell_type": "code",
   "execution_count": 27,
   "id": "8ce10e49-7c48-40bd-ad14-91175f234bd2",
   "metadata": {},
   "outputs": [
    {
     "data": {
      "text/plain": [
       "array([[0., 0., 0., ..., 0., 0., 0.]])"
      ]
     },
     "execution_count": 27,
     "metadata": {},
     "output_type": "execute_result"
    }
   ],
   "source": [
    "similarity"
   ]
  },
  {
   "cell_type": "raw",
   "id": "02f538ce-26d5-4a48-9d8d-07b9f7b4799f",
   "metadata": {},
   "source": [
    "from scipy.sparse import hstack\n",
    "\n",
    "# Pad smaller matrix with zeros\n",
    "if word_vec.shape[1] > title_vec.shape[1]:\n",
    "    diff = word_vec.shape[1] - title_vec.shape[1]\n",
    "    title_vec = hstack([title_vec, np.zeros((title_vec.shape[0], diff))])\n",
    "elif title_vec.shape[1] > word_vec.shape[1]:\n",
    "    diff = title_vec.shape[1] - word_vec.shape[1]\n",
    "    word_vec = hstack([word_vec, np.zeros((word_vec.shape[0], diff))])\n"
   ]
  },
  {
   "cell_type": "code",
   "execution_count": null,
   "id": "f8862905-6f80-4975-b2e7-5049ed33b68e",
   "metadata": {},
   "outputs": [],
   "source": [
    "similarity = cosine_similarity(word_vec, title_vec)"
   ]
  },
  {
   "cell_type": "code",
   "execution_count": 29,
   "id": "50f074af-1b2c-4708-8139-878605b3e39e",
   "metadata": {},
   "outputs": [
    {
     "data": {
      "text/plain": [
       "array([[0., 0., 0., ..., 0., 0., 0.]])"
      ]
     },
     "execution_count": 29,
     "metadata": {},
     "output_type": "execute_result"
    }
   ],
   "source": [
    "similarity"
   ]
  },
  {
   "cell_type": "code",
   "execution_count": 30,
   "id": "1f94168e-1241-4fa3-8152-1d67c20a080f",
   "metadata": {},
   "outputs": [],
   "source": [
    "indices = np.argpartition(similarity, -5)[-5:]"
   ]
  },
  {
   "cell_type": "code",
   "execution_count": 31,
   "id": "2bd7eccf-ed95-4782-9a97-b8d7f7752836",
   "metadata": {},
   "outputs": [
    {
     "data": {
      "text/plain": [
       "array([[    1, 31211, 62421, ..., 14492,  2433, 39693]], dtype=int64)"
      ]
     },
     "execution_count": 31,
     "metadata": {},
     "output_type": "execute_result"
    }
   ],
   "source": [
    "indices"
   ]
  },
  {
   "cell_type": "code",
   "execution_count": 32,
   "id": "14210185-054a-41f7-ae6e-6fd60b7aa275",
   "metadata": {},
   "outputs": [],
   "source": [
    "results = movies.iloc[indices[0]]"
   ]
  },
  {
   "cell_type": "code",
   "execution_count": 33,
   "id": "7069dfad-9036-4563-98a2-3f1524df1ad0",
   "metadata": {},
   "outputs": [
    {
     "data": {
      "text/html": [
       "<div>\n",
       "<style scoped>\n",
       "    .dataframe tbody tr th:only-of-type {\n",
       "        vertical-align: middle;\n",
       "    }\n",
       "\n",
       "    .dataframe tbody tr th {\n",
       "        vertical-align: top;\n",
       "    }\n",
       "\n",
       "    .dataframe thead th {\n",
       "        text-align: right;\n",
       "    }\n",
       "</style>\n",
       "<table border=\"1\" class=\"dataframe\">\n",
       "  <thead>\n",
       "    <tr style=\"text-align: right;\">\n",
       "      <th></th>\n",
       "      <th>movieId</th>\n",
       "      <th>title</th>\n",
       "      <th>genres</th>\n",
       "      <th>tags</th>\n",
       "    </tr>\n",
       "  </thead>\n",
       "  <tbody>\n",
       "    <tr>\n",
       "      <th>1</th>\n",
       "      <td>2</td>\n",
       "      <td>Jumanji 1995</td>\n",
       "      <td>Adventure|Children|Fantasy</td>\n",
       "      <td>Jumanji 1995 AdventureChildrenFantasy</td>\n",
       "    </tr>\n",
       "    <tr>\n",
       "      <th>31211</th>\n",
       "      <td>138022</td>\n",
       "      <td>Man in the Mirror The Michael Jackson Story 2004</td>\n",
       "      <td>Documentary|Drama</td>\n",
       "      <td>Man in the Mirror The Michael Jackson Story 20...</td>\n",
       "    </tr>\n",
       "    <tr>\n",
       "      <th>62421</th>\n",
       "      <td>209169</td>\n",
       "      <td>A Girl Thing 2001</td>\n",
       "      <td>(no genres listed)</td>\n",
       "      <td>A Girl Thing 2001 no genres listed</td>\n",
       "    </tr>\n",
       "    <tr>\n",
       "      <th>62420</th>\n",
       "      <td>209163</td>\n",
       "      <td>Bad Poems 2018</td>\n",
       "      <td>Comedy|Drama</td>\n",
       "      <td>Bad Poems 2018 ComedyDrama</td>\n",
       "    </tr>\n",
       "    <tr>\n",
       "      <th>62419</th>\n",
       "      <td>209159</td>\n",
       "      <td>Window of the Soul 2001</td>\n",
       "      <td>Documentary</td>\n",
       "      <td>Window of the Soul 2001 Documentary</td>\n",
       "    </tr>\n",
       "    <tr>\n",
       "      <th>...</th>\n",
       "      <td>...</td>\n",
       "      <td>...</td>\n",
       "      <td>...</td>\n",
       "      <td>...</td>\n",
       "    </tr>\n",
       "    <tr>\n",
       "      <th>19639</th>\n",
       "      <td>101962</td>\n",
       "      <td>Wolf Children Okami kodomo no ame to yuki 2012</td>\n",
       "      <td>Animation|Fantasy</td>\n",
       "      <td>Wolf Children Okami kodomo no ame to yuki 2012...</td>\n",
       "    </tr>\n",
       "    <tr>\n",
       "      <th>39697</th>\n",
       "      <td>157789</td>\n",
       "      <td>hack Liminality In the Case of Yuki Aihara</td>\n",
       "      <td>(no genres listed)</td>\n",
       "      <td>hack Liminality In the Case of Yuki Aihara no ...</td>\n",
       "    </tr>\n",
       "    <tr>\n",
       "      <th>14492</th>\n",
       "      <td>76156</td>\n",
       "      <td>Yuki  Nina 2009</td>\n",
       "      <td>Drama</td>\n",
       "      <td>Yuki  Nina 2009 Drama</td>\n",
       "    </tr>\n",
       "    <tr>\n",
       "      <th>2433</th>\n",
       "      <td>2524</td>\n",
       "      <td>Towering Inferno The 1974</td>\n",
       "      <td>Action|Adventure|Drama|Thriller</td>\n",
       "      <td>Towering Inferno The 1974 ActionAdventureDrama...</td>\n",
       "    </tr>\n",
       "    <tr>\n",
       "      <th>39693</th>\n",
       "      <td>157781</td>\n",
       "      <td>Yukikaze 2002</td>\n",
       "      <td>(no genres listed)</td>\n",
       "      <td>Yukikaze 2002 no genres listed</td>\n",
       "    </tr>\n",
       "  </tbody>\n",
       "</table>\n",
       "<p>62423 rows × 4 columns</p>\n",
       "</div>"
      ],
      "text/plain": [
       "       movieId                                             title  \\\n",
       "1            2                                      Jumanji 1995   \n",
       "31211   138022  Man in the Mirror The Michael Jackson Story 2004   \n",
       "62421   209169                                 A Girl Thing 2001   \n",
       "62420   209163                                    Bad Poems 2018   \n",
       "62419   209159                           Window of the Soul 2001   \n",
       "...        ...                                               ...   \n",
       "19639   101962    Wolf Children Okami kodomo no ame to yuki 2012   \n",
       "39697   157789        hack Liminality In the Case of Yuki Aihara   \n",
       "14492    76156                                   Yuki  Nina 2009   \n",
       "2433      2524                         Towering Inferno The 1974   \n",
       "39693   157781                                     Yukikaze 2002   \n",
       "\n",
       "                                genres  \\\n",
       "1           Adventure|Children|Fantasy   \n",
       "31211                Documentary|Drama   \n",
       "62421               (no genres listed)   \n",
       "62420                     Comedy|Drama   \n",
       "62419                      Documentary   \n",
       "...                                ...   \n",
       "19639                Animation|Fantasy   \n",
       "39697               (no genres listed)   \n",
       "14492                            Drama   \n",
       "2433   Action|Adventure|Drama|Thriller   \n",
       "39693               (no genres listed)   \n",
       "\n",
       "                                                    tags  \n",
       "1                  Jumanji 1995 AdventureChildrenFantasy  \n",
       "31211  Man in the Mirror The Michael Jackson Story 20...  \n",
       "62421                 A Girl Thing 2001 no genres listed  \n",
       "62420                         Bad Poems 2018 ComedyDrama  \n",
       "62419                Window of the Soul 2001 Documentary  \n",
       "...                                                  ...  \n",
       "19639  Wolf Children Okami kodomo no ame to yuki 2012...  \n",
       "39697  hack Liminality In the Case of Yuki Aihara no ...  \n",
       "14492                              Yuki  Nina 2009 Drama  \n",
       "2433   Towering Inferno The 1974 ActionAdventureDrama...  \n",
       "39693                     Yukikaze 2002 no genres listed  \n",
       "\n",
       "[62423 rows x 4 columns]"
      ]
     },
     "execution_count": 33,
     "metadata": {},
     "output_type": "execute_result"
    }
   ],
   "source": [
    "results"
   ]
  },
  {
   "cell_type": "code",
   "execution_count": null,
   "id": "d4b58d2c-08f1-47f1-948b-2360a4bb3a46",
   "metadata": {},
   "outputs": [],
   "source": []
  }
 ],
 "metadata": {
  "kernelspec": {
   "display_name": "Python 3 (ipykernel)",
   "language": "python",
   "name": "python3"
  },
  "language_info": {
   "codemirror_mode": {
    "name": "ipython",
    "version": 3
   },
   "file_extension": ".py",
   "mimetype": "text/x-python",
   "name": "python",
   "nbconvert_exporter": "python",
   "pygments_lexer": "ipython3",
   "version": "3.11.2"
  }
 },
 "nbformat": 4,
 "nbformat_minor": 5
}
