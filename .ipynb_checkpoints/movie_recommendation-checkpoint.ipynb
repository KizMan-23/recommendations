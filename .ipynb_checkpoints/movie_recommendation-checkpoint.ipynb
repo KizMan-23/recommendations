{
 "cells": [
  {
   "cell_type": "code",
   "execution_count": 1,
   "id": "523f7b69-8563-4ffc-acae-2dd9824dcf87",
   "metadata": {},
   "outputs": [],
   "source": [
    "import pandas as pd\n",
    "import numpy as np\n",
    "import zipfile\n",
    "from sklearn.feature_extraction.text import TfidfVectorizer\n",
    "import regex as re\n",
    "from sklearn.metrics.pairwise import cosine_similarity"
   ]
  },
  {
   "cell_type": "code",
   "execution_count": 2,
   "id": "16ddb009-6fcd-494c-9b97-dfefb061b525",
   "metadata": {},
   "outputs": [
    {
     "name": "stdout",
     "output_type": "stream",
     "text": [
      "Extraction Successful\n"
     ]
    }
   ],
   "source": [
    "with zipfile.ZipFile(\"C:/Users/Hp Pc/rec_datasets/movies.zip\") as file:\n",
    "    file_name = file.namelist()\n",
    "    with file.open(file_name[0], 'r') as f:\n",
    "        movies = pd.read_csv(f)\n",
    "        print(\"Extraction Successful\")\n"
   ]
  },
  {
   "cell_type": "code",
   "execution_count": 3,
   "id": "149b86a8-8f64-411b-a64b-8762a5f639f6",
   "metadata": {},
   "outputs": [
    {
     "data": {
      "text/html": [
       "<div>\n",
       "<style scoped>\n",
       "    .dataframe tbody tr th:only-of-type {\n",
       "        vertical-align: middle;\n",
       "    }\n",
       "\n",
       "    .dataframe tbody tr th {\n",
       "        vertical-align: top;\n",
       "    }\n",
       "\n",
       "    .dataframe thead th {\n",
       "        text-align: right;\n",
       "    }\n",
       "</style>\n",
       "<table border=\"1\" class=\"dataframe\">\n",
       "  <thead>\n",
       "    <tr style=\"text-align: right;\">\n",
       "      <th></th>\n",
       "      <th>movieId</th>\n",
       "      <th>title</th>\n",
       "      <th>genres</th>\n",
       "    </tr>\n",
       "  </thead>\n",
       "  <tbody>\n",
       "    <tr>\n",
       "      <th>0</th>\n",
       "      <td>1</td>\n",
       "      <td>Toy Story (1995)</td>\n",
       "      <td>Adventure|Animation|Children|Comedy|Fantasy</td>\n",
       "    </tr>\n",
       "    <tr>\n",
       "      <th>1</th>\n",
       "      <td>2</td>\n",
       "      <td>Jumanji (1995)</td>\n",
       "      <td>Adventure|Children|Fantasy</td>\n",
       "    </tr>\n",
       "    <tr>\n",
       "      <th>2</th>\n",
       "      <td>3</td>\n",
       "      <td>Grumpier Old Men (1995)</td>\n",
       "      <td>Comedy|Romance</td>\n",
       "    </tr>\n",
       "    <tr>\n",
       "      <th>3</th>\n",
       "      <td>4</td>\n",
       "      <td>Waiting to Exhale (1995)</td>\n",
       "      <td>Comedy|Drama|Romance</td>\n",
       "    </tr>\n",
       "    <tr>\n",
       "      <th>4</th>\n",
       "      <td>5</td>\n",
       "      <td>Father of the Bride Part II (1995)</td>\n",
       "      <td>Comedy</td>\n",
       "    </tr>\n",
       "    <tr>\n",
       "      <th>5</th>\n",
       "      <td>6</td>\n",
       "      <td>Heat (1995)</td>\n",
       "      <td>Action|Crime|Thriller</td>\n",
       "    </tr>\n",
       "    <tr>\n",
       "      <th>6</th>\n",
       "      <td>7</td>\n",
       "      <td>Sabrina (1995)</td>\n",
       "      <td>Comedy|Romance</td>\n",
       "    </tr>\n",
       "    <tr>\n",
       "      <th>7</th>\n",
       "      <td>8</td>\n",
       "      <td>Tom and Huck (1995)</td>\n",
       "      <td>Adventure|Children</td>\n",
       "    </tr>\n",
       "    <tr>\n",
       "      <th>8</th>\n",
       "      <td>9</td>\n",
       "      <td>Sudden Death (1995)</td>\n",
       "      <td>Action</td>\n",
       "    </tr>\n",
       "    <tr>\n",
       "      <th>9</th>\n",
       "      <td>10</td>\n",
       "      <td>GoldenEye (1995)</td>\n",
       "      <td>Action|Adventure|Thriller</td>\n",
       "    </tr>\n",
       "  </tbody>\n",
       "</table>\n",
       "</div>"
      ],
      "text/plain": [
       "   movieId                               title  \\\n",
       "0        1                    Toy Story (1995)   \n",
       "1        2                      Jumanji (1995)   \n",
       "2        3             Grumpier Old Men (1995)   \n",
       "3        4            Waiting to Exhale (1995)   \n",
       "4        5  Father of the Bride Part II (1995)   \n",
       "5        6                         Heat (1995)   \n",
       "6        7                      Sabrina (1995)   \n",
       "7        8                 Tom and Huck (1995)   \n",
       "8        9                 Sudden Death (1995)   \n",
       "9       10                    GoldenEye (1995)   \n",
       "\n",
       "                                        genres  \n",
       "0  Adventure|Animation|Children|Comedy|Fantasy  \n",
       "1                   Adventure|Children|Fantasy  \n",
       "2                               Comedy|Romance  \n",
       "3                         Comedy|Drama|Romance  \n",
       "4                                       Comedy  \n",
       "5                        Action|Crime|Thriller  \n",
       "6                               Comedy|Romance  \n",
       "7                           Adventure|Children  \n",
       "8                                       Action  \n",
       "9                    Action|Adventure|Thriller  "
      ]
     },
     "execution_count": 3,
     "metadata": {},
     "output_type": "execute_result"
    }
   ],
   "source": [
    "movies.head(10)"
   ]
  },
  {
   "cell_type": "code",
   "execution_count": 4,
   "id": "ed4a35a6-2f4f-49e9-b65b-97d70b2ed379",
   "metadata": {},
   "outputs": [
    {
     "name": "stdout",
     "output_type": "stream",
     "text": [
      "Extaction Successful\n"
     ]
    }
   ],
   "source": [
    "with zipfile.ZipFile(\"C:/Users/Hp Pc/rec_datasets/ratings.zip\") as file:\n",
    "    rate = file.open(\"ratings.csv\")\n",
    "    ratings = pd.read_csv(rate)\n",
    "    print(\"Extaction Successful\")"
   ]
  },
  {
   "cell_type": "code",
   "execution_count": 5,
   "id": "6ff2d825-7093-4db5-a813-133267a12256",
   "metadata": {},
   "outputs": [
    {
     "data": {
      "text/html": [
       "<div>\n",
       "<style scoped>\n",
       "    .dataframe tbody tr th:only-of-type {\n",
       "        vertical-align: middle;\n",
       "    }\n",
       "\n",
       "    .dataframe tbody tr th {\n",
       "        vertical-align: top;\n",
       "    }\n",
       "\n",
       "    .dataframe thead th {\n",
       "        text-align: right;\n",
       "    }\n",
       "</style>\n",
       "<table border=\"1\" class=\"dataframe\">\n",
       "  <thead>\n",
       "    <tr style=\"text-align: right;\">\n",
       "      <th></th>\n",
       "      <th>userId</th>\n",
       "      <th>movieId</th>\n",
       "      <th>rating</th>\n",
       "      <th>timestamp</th>\n",
       "    </tr>\n",
       "  </thead>\n",
       "  <tbody>\n",
       "    <tr>\n",
       "      <th>0</th>\n",
       "      <td>1</td>\n",
       "      <td>296</td>\n",
       "      <td>5.0</td>\n",
       "      <td>1147880044</td>\n",
       "    </tr>\n",
       "    <tr>\n",
       "      <th>1</th>\n",
       "      <td>1</td>\n",
       "      <td>306</td>\n",
       "      <td>3.5</td>\n",
       "      <td>1147868817</td>\n",
       "    </tr>\n",
       "    <tr>\n",
       "      <th>2</th>\n",
       "      <td>1</td>\n",
       "      <td>307</td>\n",
       "      <td>5.0</td>\n",
       "      <td>1147868828</td>\n",
       "    </tr>\n",
       "    <tr>\n",
       "      <th>3</th>\n",
       "      <td>1</td>\n",
       "      <td>665</td>\n",
       "      <td>5.0</td>\n",
       "      <td>1147878820</td>\n",
       "    </tr>\n",
       "    <tr>\n",
       "      <th>4</th>\n",
       "      <td>1</td>\n",
       "      <td>899</td>\n",
       "      <td>3.5</td>\n",
       "      <td>1147868510</td>\n",
       "    </tr>\n",
       "    <tr>\n",
       "      <th>5</th>\n",
       "      <td>1</td>\n",
       "      <td>1088</td>\n",
       "      <td>4.0</td>\n",
       "      <td>1147868495</td>\n",
       "    </tr>\n",
       "    <tr>\n",
       "      <th>6</th>\n",
       "      <td>1</td>\n",
       "      <td>1175</td>\n",
       "      <td>3.5</td>\n",
       "      <td>1147868826</td>\n",
       "    </tr>\n",
       "    <tr>\n",
       "      <th>7</th>\n",
       "      <td>1</td>\n",
       "      <td>1217</td>\n",
       "      <td>3.5</td>\n",
       "      <td>1147878326</td>\n",
       "    </tr>\n",
       "    <tr>\n",
       "      <th>8</th>\n",
       "      <td>1</td>\n",
       "      <td>1237</td>\n",
       "      <td>5.0</td>\n",
       "      <td>1147868839</td>\n",
       "    </tr>\n",
       "    <tr>\n",
       "      <th>9</th>\n",
       "      <td>1</td>\n",
       "      <td>1250</td>\n",
       "      <td>4.0</td>\n",
       "      <td>1147868414</td>\n",
       "    </tr>\n",
       "  </tbody>\n",
       "</table>\n",
       "</div>"
      ],
      "text/plain": [
       "   userId  movieId  rating   timestamp\n",
       "0       1      296     5.0  1147880044\n",
       "1       1      306     3.5  1147868817\n",
       "2       1      307     5.0  1147868828\n",
       "3       1      665     5.0  1147878820\n",
       "4       1      899     3.5  1147868510\n",
       "5       1     1088     4.0  1147868495\n",
       "6       1     1175     3.5  1147868826\n",
       "7       1     1217     3.5  1147878326\n",
       "8       1     1237     5.0  1147868839\n",
       "9       1     1250     4.0  1147868414"
      ]
     },
     "execution_count": 5,
     "metadata": {},
     "output_type": "execute_result"
    }
   ],
   "source": [
    "ratings.head(10)"
   ]
  },
  {
   "cell_type": "code",
   "execution_count": null,
   "id": "f6acb3e8-e36b-438e-9303-6ca2b5a1e6bc",
   "metadata": {},
   "outputs": [],
   "source": []
  },
  {
   "cell_type": "markdown",
   "id": "564ddc21-953f-41fa-92e2-394cb3b538e5",
   "metadata": {},
   "source": [
    "DEVELOP A SEARCH"
   ]
  },
  {
   "cell_type": "code",
   "execution_count": 6,
   "id": "cf6e54f8-4625-4873-b1e8-914e8f16df50",
   "metadata": {},
   "outputs": [],
   "source": [
    "def clean_text(text):\n",
    "    return re.sub(r'[^a-zA-Z0-9 ]', \"\", text)"
   ]
  },
  {
   "cell_type": "code",
   "execution_count": 7,
   "id": "60608512-c732-4f6d-95c4-f72a9f0dec6a",
   "metadata": {},
   "outputs": [],
   "source": [
    "movies['title'] = movies['title'].apply(clean_text)"
   ]
  },
  {
   "cell_type": "code",
   "execution_count": 8,
   "id": "e7b8c21b-2450-45d3-849a-b3d94a840143",
   "metadata": {},
   "outputs": [
    {
     "data": {
      "text/plain": [
       "0                          Toy Story 1995\n",
       "1                            Jumanji 1995\n",
       "2                   Grumpier Old Men 1995\n",
       "3                  Waiting to Exhale 1995\n",
       "4        Father of the Bride Part II 1995\n",
       "                       ...               \n",
       "62418                             We 2018\n",
       "62419             Window of the Soul 2001\n",
       "62420                      Bad Poems 2018\n",
       "62421                   A Girl Thing 2001\n",
       "62422         Women of Devils Island 1962\n",
       "Name: title, Length: 62423, dtype: object"
      ]
     },
     "execution_count": 8,
     "metadata": {},
     "output_type": "execute_result"
    }
   ],
   "source": [
    "movies['title']"
   ]
  },
  {
   "cell_type": "code",
   "execution_count": 9,
   "id": "078aeb79-0508-493d-b35e-ced1ff21ad3e",
   "metadata": {},
   "outputs": [],
   "source": [
    "movies['tags'] = movies['title'].apply(clean_text) +\" \" + movies['genres'].apply(clean_text)"
   ]
  },
  {
   "cell_type": "code",
   "execution_count": 10,
   "id": "e0278b60-d902-4034-b1ed-9f76f2b8d1bf",
   "metadata": {},
   "outputs": [],
   "source": [
    "vectorizer = TfidfVectorizer(ngram_range=(1,2), stop_words ='english')\n",
    "\n",
    "title_vec = vectorizer.fit_transform(movies['title'])\n",
    "tags_vec = vectorizer.fit_transform(movies['tags'])"
   ]
  },
  {
   "cell_type": "code",
   "execution_count": 11,
   "id": "37a9c705-ea36-4f30-997e-708b655ec9c3",
   "metadata": {},
   "outputs": [
    {
     "name": "stdout",
     "output_type": "stream",
     "text": [
      "['00' '00 awakening' '00 schneider' ... 'zyzzyx rd' 'zzero' 'zzero 1974']\n"
     ]
    }
   ],
   "source": [
    "print(vectorizer.get_feature_names_out())"
   ]
  },
  {
   "cell_type": "code",
   "execution_count": null,
   "id": "cb2e23df-a07e-4ed8-bdf4-93bf53b99679",
   "metadata": {},
   "outputs": [],
   "source": [
    "title = \"Toy Story\"\n",
    "\n",
    "title = clean_text(title)\n",
    "word_vec  = vectorizer.transform([title])\n",
    "similarity = cosine_similarity(word_vec, title_vec)"
   ]
  },
  {
   "cell_type": "raw",
   "id": "02f538ce-26d5-4a48-9d8d-07b9f7b4799f",
   "metadata": {},
   "source": [
    "from scipy.sparse import hstack\n",
    "\n",
    "# Pad smaller matrix with zeros\n",
    "if word_vec.shape[1] > title_vec.shape[1]:\n",
    "    diff = word_vec.shape[1] - title_vec.shape[1]\n",
    "    title_vec = hstack([title_vec, np.zeros((title_vec.shape[0], diff))])\n",
    "elif title_vec.shape[1] > word_vec.shape[1]:\n",
    "    diff = title_vec.shape[1] - word_vec.shape[1]\n",
    "    word_vec = hstack([word_vec, np.zeros((word_vec.shape[0], diff))])\n"
   ]
  },
  {
   "cell_type": "code",
   "execution_count": 21,
   "id": "f8862905-6f80-4975-b2e7-5049ed33b68e",
   "metadata": {},
   "outputs": [],
   "source": [
    "#search function\n",
    "\n",
    "def search(title):\n",
    "    title = clean_text(title)\n",
    "    word_vec = vectorizer.transform([title])\n",
    "    similarity = cosine_similarity(word_vec, title_vec)\n",
    "    indices = np.argpartition(similarity, -5)[-5:] #Top 5 in similarity\n",
    "    results = movies.iloc[indices][::-1]\n",
    "    return results"
   ]
  },
  {
   "cell_type": "code",
   "execution_count": 23,
   "id": "50f074af-1b2c-4708-8139-878605b3e39e",
   "metadata": {},
   "outputs": [
    {
     "data": {
      "application/vnd.jupyter.widget-view+json": {
       "model_id": "a85a3f0764ed48eab107443d82ce9a54",
       "version_major": 2,
       "version_minor": 0
      },
      "text/plain": [
       "Text(value='', description='Moive Title: ')"
      ]
     },
     "metadata": {},
     "output_type": "display_data"
    },
    {
     "data": {
      "application/vnd.jupyter.widget-view+json": {
       "model_id": "a06d8335a93447839d82bf46c312ae4e",
       "version_major": 2,
       "version_minor": 0
      },
      "text/plain": [
       "Output()"
      ]
     },
     "metadata": {},
     "output_type": "display_data"
    }
   ],
   "source": [
    "import ipywidgets as widgets\n",
    "from IPython.display import display\n",
    "\n",
    "movie_input = widgets.Text(\n",
    "    value = \"\",\n",
    "    description = \"Moive Title: \",\n",
    "    disabled = False\n",
    ")\n",
    "\n",
    "search_list = widgets.Output()\n",
    "\n",
    "def on_type(data):\n",
    "    with search_list:\n",
    "        search_list.clear_output()\n",
    "        title = data['new']\n",
    "        if len(title) > 4:\n",
    "            display(search(title))\n",
    "\n",
    "movie_input.observe(on_type, names='value')\n",
    "display(movie_input, search_list)"
   ]
  },
  {
   "cell_type": "code",
   "execution_count": null,
   "id": "d4b58d2c-08f1-47f1-948b-2360a4bb3a46",
   "metadata": {},
   "outputs": [],
   "source": []
  },
  {
   "cell_type": "markdown",
   "id": "f4f8a5c4-27f7-47da-b19b-536d9d226838",
   "metadata": {},
   "source": [
    "RECOMMENDATION SYSTEM"
   ]
  },
  {
   "cell_type": "raw",
   "id": "23729a62-7cc0-49c1-9dc7-f5d2da464997",
   "metadata": {},
   "source": [
    "Recommendation based on:\n",
    "* similar users who watched the same movies and/or genre as us -- collaborative filtering\n",
    "*  "
   ]
  },
  {
   "cell_type": "code",
   "execution_count": 26,
   "id": "de47f82c-3923-45f3-abe8-4dbac502c751",
   "metadata": {},
   "outputs": [
    {
     "data": {
      "text/html": [
       "<div>\n",
       "<style scoped>\n",
       "    .dataframe tbody tr th:only-of-type {\n",
       "        vertical-align: middle;\n",
       "    }\n",
       "\n",
       "    .dataframe tbody tr th {\n",
       "        vertical-align: top;\n",
       "    }\n",
       "\n",
       "    .dataframe thead th {\n",
       "        text-align: right;\n",
       "    }\n",
       "</style>\n",
       "<table border=\"1\" class=\"dataframe\">\n",
       "  <thead>\n",
       "    <tr style=\"text-align: right;\">\n",
       "      <th></th>\n",
       "      <th>userId</th>\n",
       "      <th>movieId</th>\n",
       "      <th>rating</th>\n",
       "      <th>timestamp</th>\n",
       "    </tr>\n",
       "  </thead>\n",
       "  <tbody>\n",
       "    <tr>\n",
       "      <th>0</th>\n",
       "      <td>1</td>\n",
       "      <td>296</td>\n",
       "      <td>5.0</td>\n",
       "      <td>1147880044</td>\n",
       "    </tr>\n",
       "    <tr>\n",
       "      <th>1</th>\n",
       "      <td>1</td>\n",
       "      <td>306</td>\n",
       "      <td>3.5</td>\n",
       "      <td>1147868817</td>\n",
       "    </tr>\n",
       "    <tr>\n",
       "      <th>2</th>\n",
       "      <td>1</td>\n",
       "      <td>307</td>\n",
       "      <td>5.0</td>\n",
       "      <td>1147868828</td>\n",
       "    </tr>\n",
       "    <tr>\n",
       "      <th>3</th>\n",
       "      <td>1</td>\n",
       "      <td>665</td>\n",
       "      <td>5.0</td>\n",
       "      <td>1147878820</td>\n",
       "    </tr>\n",
       "    <tr>\n",
       "      <th>4</th>\n",
       "      <td>1</td>\n",
       "      <td>899</td>\n",
       "      <td>3.5</td>\n",
       "      <td>1147868510</td>\n",
       "    </tr>\n",
       "  </tbody>\n",
       "</table>\n",
       "</div>"
      ],
      "text/plain": [
       "   userId  movieId  rating   timestamp\n",
       "0       1      296     5.0  1147880044\n",
       "1       1      306     3.5  1147868817\n",
       "2       1      307     5.0  1147868828\n",
       "3       1      665     5.0  1147878820\n",
       "4       1      899     3.5  1147868510"
      ]
     },
     "execution_count": 26,
     "metadata": {},
     "output_type": "execute_result"
    }
   ],
   "source": [
    "ratings.head()"
   ]
  },
  {
   "cell_type": "code",
   "execution_count": 89,
   "id": "4dc3917b-c2f9-476f-a97c-1b10b100707c",
   "metadata": {},
   "outputs": [],
   "source": [
    "movie_id = 1\n",
    "\n",
    "similar_users = ratings[(ratings['movieId'] == movie_id) & (ratings['rating'] >= 4.0)]['userId'].unique()"
   ]
  },
  {
   "cell_type": "code",
   "execution_count": 90,
   "id": "903dc5d3-42a6-4b08-9283-d0e610522166",
   "metadata": {},
   "outputs": [],
   "source": [
    "similar_users_movies = ratings[(ratings['userId'].isin(similar_users)) & (ratings['rating'] >= 4.0)]['movieId']"
   ]
  },
  {
   "cell_type": "code",
   "execution_count": 91,
   "id": "9b62e7b9-e5aa-495f-9bb8-750af3adf891",
   "metadata": {},
   "outputs": [
    {
     "data": {
      "text/plain": [
       "movieId\n",
       "1         37709\n",
       "318       20725\n",
       "260       20043\n",
       "356       19504\n",
       "296       18694\n",
       "          ...  \n",
       "153913        1\n",
       "153917        1\n",
       "6501          1\n",
       "41704         1\n",
       "198609        1\n",
       "Name: count, Length: 30595, dtype: int64"
      ]
     },
     "execution_count": 91,
     "metadata": {},
     "output_type": "execute_result"
    }
   ],
   "source": [
    "similar_users_movies.value_counts()"
   ]
  },
  {
   "cell_type": "code",
   "execution_count": 92,
   "id": "5e9e14ec-067b-44c0-b885-d5b56aea7099",
   "metadata": {},
   "outputs": [],
   "source": [
    "similar_users_rec = similar_users_movies.value_counts() / len(similar_users_movies) * 10**2\n",
    "#the percentage of distribution of each movie in this cluster; similar_users\n",
    "\n",
    "similar_users_rec = similar_users_rec[similar_users_rec > .1]"
   ]
  },
  {
   "cell_type": "code",
   "execution_count": 93,
   "id": "94051342-7811-4bb6-8255-f16b51810120",
   "metadata": {},
   "outputs": [
    {
     "data": {
      "text/plain": [
       "movieId\n",
       "1        0.739104\n",
       "318      0.406214\n",
       "260      0.392847\n",
       "356      0.382282\n",
       "296      0.366406\n",
       "           ...   \n",
       "68157    0.101098\n",
       "1288     0.100392\n",
       "1247     0.100392\n",
       "1584     0.100373\n",
       "1207     0.100000\n",
       "Name: count, Length: 165, dtype: float64"
      ]
     },
     "execution_count": 93,
     "metadata": {},
     "output_type": "execute_result"
    }
   ],
   "source": [
    "similar_users_rec"
   ]
  },
  {
   "cell_type": "code",
   "execution_count": 111,
   "id": "f6ad1fe5-62f7-4da4-b613-658b539d7cca",
   "metadata": {},
   "outputs": [],
   "source": [
    "#Compare these movies above to all users watching and rating\n",
    "\n",
    "all_users = ratings[(ratings['movieId'].isin(similar_users_rec.index)) & (ratings['rating'] >= 4)]"
   ]
  },
  {
   "cell_type": "code",
   "execution_count": 112,
   "id": "a80d02d7-6607-41cb-92c6-7bde70a6497a",
   "metadata": {},
   "outputs": [],
   "source": [
    "all_users_rec =   all_users['movieId'].value_counts() / len(all_users['userId'].unique()) "
   ]
  },
  {
   "cell_type": "code",
   "execution_count": 113,
   "id": "4c7b3eae-fd94-4773-94d8-dec36fc247bb",
   "metadata": {},
   "outputs": [
    {
     "data": {
      "text/plain": [
       "movieId\n",
       "318      0.443192\n",
       "296      0.392294\n",
       "356      0.370039\n",
       "593      0.364344\n",
       "2571     0.350347\n",
       "           ...   \n",
       "1356     0.068489\n",
       "2987     0.068112\n",
       "2797     0.066359\n",
       "1517     0.066308\n",
       "78499    0.058100\n",
       "Name: count, Length: 165, dtype: float64"
      ]
     },
     "execution_count": 113,
     "metadata": {},
     "output_type": "execute_result"
    }
   ],
   "source": [
    "all_users_rec"
   ]
  },
  {
   "cell_type": "code",
   "execution_count": 114,
   "id": "8aed87bd-f4c8-4027-bdd0-353f094542b1",
   "metadata": {},
   "outputs": [],
   "source": [
    "users_rec = pd.concat([similar_users_rec, all_users_rec], axis =1)\n",
    "users_rec.columns = ['similar_users', 'all_users']"
   ]
  },
  {
   "cell_type": "code",
   "execution_count": 115,
   "id": "5aa7441f-7d49-428b-89ba-2b4598f5cf68",
   "metadata": {
    "scrolled": true
   },
   "outputs": [
    {
     "data": {
      "text/html": [
       "<div>\n",
       "<style scoped>\n",
       "    .dataframe tbody tr th:only-of-type {\n",
       "        vertical-align: middle;\n",
       "    }\n",
       "\n",
       "    .dataframe tbody tr th {\n",
       "        vertical-align: top;\n",
       "    }\n",
       "\n",
       "    .dataframe thead th {\n",
       "        text-align: right;\n",
       "    }\n",
       "</style>\n",
       "<table border=\"1\" class=\"dataframe\">\n",
       "  <thead>\n",
       "    <tr style=\"text-align: right;\">\n",
       "      <th></th>\n",
       "      <th>similar_users</th>\n",
       "      <th>all_users</th>\n",
       "      <th>scores</th>\n",
       "    </tr>\n",
       "    <tr>\n",
       "      <th>movieId</th>\n",
       "      <th></th>\n",
       "      <th></th>\n",
       "      <th></th>\n",
       "    </tr>\n",
       "  </thead>\n",
       "  <tbody>\n",
       "    <tr>\n",
       "      <th>1</th>\n",
       "      <td>0.739104</td>\n",
       "      <td>0.237007</td>\n",
       "      <td>3.118490</td>\n",
       "    </tr>\n",
       "    <tr>\n",
       "      <th>3114</th>\n",
       "      <td>0.243101</td>\n",
       "      <td>0.102932</td>\n",
       "      <td>2.361765</td>\n",
       "    </tr>\n",
       "    <tr>\n",
       "      <th>78499</th>\n",
       "      <td>0.119679</td>\n",
       "      <td>0.058100</td>\n",
       "      <td>2.059876</td>\n",
       "    </tr>\n",
       "    <tr>\n",
       "      <th>2355</th>\n",
       "      <td>0.141239</td>\n",
       "      <td>0.069445</td>\n",
       "      <td>2.033834</td>\n",
       "    </tr>\n",
       "    <tr>\n",
       "      <th>1073</th>\n",
       "      <td>0.171325</td>\n",
       "      <td>0.099783</td>\n",
       "      <td>1.716976</td>\n",
       "    </tr>\n",
       "    <tr>\n",
       "      <th>2797</th>\n",
       "      <td>0.112446</td>\n",
       "      <td>0.066359</td>\n",
       "      <td>1.694523</td>\n",
       "    </tr>\n",
       "    <tr>\n",
       "      <th>4886</th>\n",
       "      <td>0.228617</td>\n",
       "      <td>0.136482</td>\n",
       "      <td>1.675066</td>\n",
       "    </tr>\n",
       "    <tr>\n",
       "      <th>2987</th>\n",
       "      <td>0.111819</td>\n",
       "      <td>0.068112</td>\n",
       "      <td>1.641689</td>\n",
       "    </tr>\n",
       "    <tr>\n",
       "      <th>6377</th>\n",
       "      <td>0.217366</td>\n",
       "      <td>0.135030</td>\n",
       "      <td>1.609758</td>\n",
       "    </tr>\n",
       "    <tr>\n",
       "      <th>8961</th>\n",
       "      <td>0.193238</td>\n",
       "      <td>0.120587</td>\n",
       "      <td>1.602480</td>\n",
       "    </tr>\n",
       "    <tr>\n",
       "      <th>588</th>\n",
       "      <td>0.243630</td>\n",
       "      <td>0.153710</td>\n",
       "      <td>1.585003</td>\n",
       "    </tr>\n",
       "    <tr>\n",
       "      <th>1148</th>\n",
       "      <td>0.116778</td>\n",
       "      <td>0.073888</td>\n",
       "      <td>1.580466</td>\n",
       "    </tr>\n",
       "    <tr>\n",
       "      <th>1393</th>\n",
       "      <td>0.116308</td>\n",
       "      <td>0.074353</td>\n",
       "      <td>1.564253</td>\n",
       "    </tr>\n",
       "    <tr>\n",
       "      <th>1517</th>\n",
       "      <td>0.103587</td>\n",
       "      <td>0.066308</td>\n",
       "      <td>1.562201</td>\n",
       "    </tr>\n",
       "    <tr>\n",
       "      <th>364</th>\n",
       "      <td>0.256861</td>\n",
       "      <td>0.164489</td>\n",
       "      <td>1.561568</td>\n",
       "    </tr>\n",
       "    <tr>\n",
       "      <th>919</th>\n",
       "      <td>0.159075</td>\n",
       "      <td>0.101939</td>\n",
       "      <td>1.560495</td>\n",
       "    </tr>\n",
       "    <tr>\n",
       "      <th>1356</th>\n",
       "      <td>0.106370</td>\n",
       "      <td>0.068489</td>\n",
       "      <td>1.553092</td>\n",
       "    </tr>\n",
       "    <tr>\n",
       "      <th>50872</th>\n",
       "      <td>0.112388</td>\n",
       "      <td>0.072499</td>\n",
       "      <td>1.550188</td>\n",
       "    </tr>\n",
       "    <tr>\n",
       "      <th>595</th>\n",
       "      <td>0.190122</td>\n",
       "      <td>0.122875</td>\n",
       "      <td>1.547281</td>\n",
       "    </tr>\n",
       "    <tr>\n",
       "      <th>551</th>\n",
       "      <td>0.123344</td>\n",
       "      <td>0.080758</td>\n",
       "      <td>1.527329</td>\n",
       "    </tr>\n",
       "  </tbody>\n",
       "</table>\n",
       "</div>"
      ],
      "text/plain": [
       "         similar_users  all_users    scores\n",
       "movieId                                    \n",
       "1             0.739104   0.237007  3.118490\n",
       "3114          0.243101   0.102932  2.361765\n",
       "78499         0.119679   0.058100  2.059876\n",
       "2355          0.141239   0.069445  2.033834\n",
       "1073          0.171325   0.099783  1.716976\n",
       "2797          0.112446   0.066359  1.694523\n",
       "4886          0.228617   0.136482  1.675066\n",
       "2987          0.111819   0.068112  1.641689\n",
       "6377          0.217366   0.135030  1.609758\n",
       "8961          0.193238   0.120587  1.602480\n",
       "588           0.243630   0.153710  1.585003\n",
       "1148          0.116778   0.073888  1.580466\n",
       "1393          0.116308   0.074353  1.564253\n",
       "1517          0.103587   0.066308  1.562201\n",
       "364           0.256861   0.164489  1.561568\n",
       "919           0.159075   0.101939  1.560495\n",
       "1356          0.106370   0.068489  1.553092\n",
       "50872         0.112388   0.072499  1.550188\n",
       "595           0.190122   0.122875  1.547281\n",
       "551           0.123344   0.080758  1.527329"
      ]
     },
     "execution_count": 115,
     "metadata": {},
     "output_type": "execute_result"
    }
   ],
   "source": [
    "users_rec['scores'] = users_rec['similar_users'] / users_rec['all_users']\n",
    "users_rec = users_rec.sort_values('scores', ascending=False).head(20)\n",
    "users_rec"
   ]
  },
  {
   "cell_type": "code",
   "execution_count": 116,
   "id": "138bf929-843e-4a8e-90de-e26352cece64",
   "metadata": {},
   "outputs": [],
   "source": [
    "users_rec_result = users_rec.merge(movies, left_index =True , right_on = 'movieId')[['title', 'genres', 'scores']]"
   ]
  },
  {
   "cell_type": "code",
   "execution_count": 117,
   "id": "564d784d-a508-4585-8d55-99e7bfb18dbe",
   "metadata": {
    "scrolled": true
   },
   "outputs": [
    {
     "data": {
      "text/html": [
       "<div>\n",
       "<style scoped>\n",
       "    .dataframe tbody tr th:only-of-type {\n",
       "        vertical-align: middle;\n",
       "    }\n",
       "\n",
       "    .dataframe tbody tr th {\n",
       "        vertical-align: top;\n",
       "    }\n",
       "\n",
       "    .dataframe thead th {\n",
       "        text-align: right;\n",
       "    }\n",
       "</style>\n",
       "<table border=\"1\" class=\"dataframe\">\n",
       "  <thead>\n",
       "    <tr style=\"text-align: right;\">\n",
       "      <th></th>\n",
       "      <th>title</th>\n",
       "      <th>genres</th>\n",
       "      <th>scores</th>\n",
       "    </tr>\n",
       "  </thead>\n",
       "  <tbody>\n",
       "    <tr>\n",
       "      <th>0</th>\n",
       "      <td>Toy Story 1995</td>\n",
       "      <td>Adventure|Animation|Children|Comedy|Fantasy</td>\n",
       "      <td>3.118490</td>\n",
       "    </tr>\n",
       "    <tr>\n",
       "      <th>3021</th>\n",
       "      <td>Toy Story 2 1999</td>\n",
       "      <td>Adventure|Animation|Children|Comedy|Fantasy</td>\n",
       "      <td>2.361765</td>\n",
       "    </tr>\n",
       "    <tr>\n",
       "      <th>14813</th>\n",
       "      <td>Toy Story 3 2010</td>\n",
       "      <td>Adventure|Animation|Children|Comedy|Fantasy|IMAX</td>\n",
       "      <td>2.059876</td>\n",
       "    </tr>\n",
       "    <tr>\n",
       "      <th>2264</th>\n",
       "      <td>Bugs Life A 1998</td>\n",
       "      <td>Adventure|Animation|Children|Comedy</td>\n",
       "      <td>2.033834</td>\n",
       "    </tr>\n",
       "    <tr>\n",
       "      <th>1047</th>\n",
       "      <td>Willy Wonka  the Chocolate Factory 1971</td>\n",
       "      <td>Children|Comedy|Fantasy|Musical</td>\n",
       "      <td>1.716976</td>\n",
       "    </tr>\n",
       "    <tr>\n",
       "      <th>2705</th>\n",
       "      <td>Big 1988</td>\n",
       "      <td>Comedy|Drama|Fantasy|Romance</td>\n",
       "      <td>1.694523</td>\n",
       "    </tr>\n",
       "    <tr>\n",
       "      <th>4780</th>\n",
       "      <td>Monsters Inc 2001</td>\n",
       "      <td>Adventure|Animation|Children|Comedy|Fantasy</td>\n",
       "      <td>1.675066</td>\n",
       "    </tr>\n",
       "    <tr>\n",
       "      <th>2895</th>\n",
       "      <td>Who Framed Roger Rabbit 1988</td>\n",
       "      <td>Adventure|Animation|Children|Comedy|Crime|Fant...</td>\n",
       "      <td>1.641689</td>\n",
       "    </tr>\n",
       "    <tr>\n",
       "      <th>6258</th>\n",
       "      <td>Finding Nemo 2003</td>\n",
       "      <td>Adventure|Animation|Children|Comedy</td>\n",
       "      <td>1.609758</td>\n",
       "    </tr>\n",
       "    <tr>\n",
       "      <th>8246</th>\n",
       "      <td>Incredibles The 2004</td>\n",
       "      <td>Action|Adventure|Animation|Children|Comedy</td>\n",
       "      <td>1.602480</td>\n",
       "    </tr>\n",
       "    <tr>\n",
       "      <th>580</th>\n",
       "      <td>Aladdin 1992</td>\n",
       "      <td>Adventure|Animation|Children|Comedy|Musical</td>\n",
       "      <td>1.585003</td>\n",
       "    </tr>\n",
       "    <tr>\n",
       "      <th>1120</th>\n",
       "      <td>Wallace  Gromit The Wrong Trousers 1993</td>\n",
       "      <td>Animation|Children|Comedy|Crime</td>\n",
       "      <td>1.580466</td>\n",
       "    </tr>\n",
       "    <tr>\n",
       "      <th>1357</th>\n",
       "      <td>Jerry Maguire 1996</td>\n",
       "      <td>Drama|Romance</td>\n",
       "      <td>1.564253</td>\n",
       "    </tr>\n",
       "    <tr>\n",
       "      <th>1466</th>\n",
       "      <td>Austin Powers International Man of Mystery 1997</td>\n",
       "      <td>Action|Adventure|Comedy</td>\n",
       "      <td>1.562201</td>\n",
       "    </tr>\n",
       "    <tr>\n",
       "      <th>359</th>\n",
       "      <td>Lion King The 1994</td>\n",
       "      <td>Adventure|Animation|Children|Drama|Musical|IMAX</td>\n",
       "      <td>1.561568</td>\n",
       "    </tr>\n",
       "    <tr>\n",
       "      <th>898</th>\n",
       "      <td>Wizard of Oz The 1939</td>\n",
       "      <td>Adventure|Children|Fantasy|Musical</td>\n",
       "      <td>1.560495</td>\n",
       "    </tr>\n",
       "    <tr>\n",
       "      <th>1321</th>\n",
       "      <td>Star Trek First Contact 1996</td>\n",
       "      <td>Action|Adventure|Sci-Fi|Thriller</td>\n",
       "      <td>1.553092</td>\n",
       "    </tr>\n",
       "    <tr>\n",
       "      <th>11361</th>\n",
       "      <td>Ratatouille 2007</td>\n",
       "      <td>Animation|Children|Drama</td>\n",
       "      <td>1.550188</td>\n",
       "    </tr>\n",
       "    <tr>\n",
       "      <th>587</th>\n",
       "      <td>Beauty and the Beast 1991</td>\n",
       "      <td>Animation|Children|Fantasy|Musical|Romance|IMAX</td>\n",
       "      <td>1.547281</td>\n",
       "    </tr>\n",
       "    <tr>\n",
       "      <th>545</th>\n",
       "      <td>Nightmare Before Christmas The 1993</td>\n",
       "      <td>Animation|Children|Fantasy|Musical</td>\n",
       "      <td>1.527329</td>\n",
       "    </tr>\n",
       "  </tbody>\n",
       "</table>\n",
       "</div>"
      ],
      "text/plain": [
       "                                                 title  \\\n",
       "0                                       Toy Story 1995   \n",
       "3021                                  Toy Story 2 1999   \n",
       "14813                                 Toy Story 3 2010   \n",
       "2264                                  Bugs Life A 1998   \n",
       "1047           Willy Wonka  the Chocolate Factory 1971   \n",
       "2705                                          Big 1988   \n",
       "4780                                 Monsters Inc 2001   \n",
       "2895                      Who Framed Roger Rabbit 1988   \n",
       "6258                                 Finding Nemo 2003   \n",
       "8246                              Incredibles The 2004   \n",
       "580                                       Aladdin 1992   \n",
       "1120           Wallace  Gromit The Wrong Trousers 1993   \n",
       "1357                                Jerry Maguire 1996   \n",
       "1466   Austin Powers International Man of Mystery 1997   \n",
       "359                                 Lion King The 1994   \n",
       "898                              Wizard of Oz The 1939   \n",
       "1321                      Star Trek First Contact 1996   \n",
       "11361                                 Ratatouille 2007   \n",
       "587                          Beauty and the Beast 1991   \n",
       "545                Nightmare Before Christmas The 1993   \n",
       "\n",
       "                                                  genres    scores  \n",
       "0            Adventure|Animation|Children|Comedy|Fantasy  3.118490  \n",
       "3021         Adventure|Animation|Children|Comedy|Fantasy  2.361765  \n",
       "14813   Adventure|Animation|Children|Comedy|Fantasy|IMAX  2.059876  \n",
       "2264                 Adventure|Animation|Children|Comedy  2.033834  \n",
       "1047                     Children|Comedy|Fantasy|Musical  1.716976  \n",
       "2705                        Comedy|Drama|Fantasy|Romance  1.694523  \n",
       "4780         Adventure|Animation|Children|Comedy|Fantasy  1.675066  \n",
       "2895   Adventure|Animation|Children|Comedy|Crime|Fant...  1.641689  \n",
       "6258                 Adventure|Animation|Children|Comedy  1.609758  \n",
       "8246          Action|Adventure|Animation|Children|Comedy  1.602480  \n",
       "580          Adventure|Animation|Children|Comedy|Musical  1.585003  \n",
       "1120                     Animation|Children|Comedy|Crime  1.580466  \n",
       "1357                                       Drama|Romance  1.564253  \n",
       "1466                             Action|Adventure|Comedy  1.562201  \n",
       "359      Adventure|Animation|Children|Drama|Musical|IMAX  1.561568  \n",
       "898                   Adventure|Children|Fantasy|Musical  1.560495  \n",
       "1321                    Action|Adventure|Sci-Fi|Thriller  1.553092  \n",
       "11361                           Animation|Children|Drama  1.550188  \n",
       "587      Animation|Children|Fantasy|Musical|Romance|IMAX  1.547281  \n",
       "545                   Animation|Children|Fantasy|Musical  1.527329  "
      ]
     },
     "execution_count": 117,
     "metadata": {},
     "output_type": "execute_result"
    }
   ],
   "source": [
    "users_rec_result"
   ]
  },
  {
   "cell_type": "code",
   "execution_count": null,
   "id": "e0a2bc65-d6e3-42ac-a942-a035d1f7de8c",
   "metadata": {},
   "outputs": [],
   "source": [
    "def get_recommendation(movie_id):\n",
    "    similar_users = ratings[(ratings['movieId'] == movie_id) & (ratings['rating'] >= 4.0)]['userId'].unique()\n",
    "    similar_users_movies = ratings[(ratings['userId'].isin(similar_users)) & (ratings['rating'] >= 4.0)]['movieId']\n",
    "\n",
    "    similar_users_rec = similar_users_movies.value_counts() / len(similar_users_movies) * 10**2\n",
    "    #the percentage of distribution of each movie in this cluster; similar_users\n",
    "    similar_users_rec = similar_users_rec[similar_users_rec > .1]\n",
    "\n",
    "    all_users = ratings[(ratings['movieId'].isin(similar_users_rec.index)) & (ratings['rating'] >= 4)]\n",
    "    all_users_rec =   all_users['movieId'].value_counts() / len(all_users['userId'].unique()) \n",
    "\n",
    "    users_rec = pd.concat([similar_users_rec, all_users_rec], axis =1)\n",
    "    users_rec.columns = ['similar_users', 'all_users']\n",
    "\n",
    "    users_rec['scores'] = users_rec['similar_users'] / users_rec['all_users']\n",
    "    users_rec = users_rec.sort_values('scores', ascending=False).head(15)\n",
    "\n",
    "    #return movies that are not in the search results\n",
    "    rec_results = users_rec[~(users_rec.index).isin(results.index)]\n",
    "    \n",
    "    return users_rec"
   ]
  },
  {
   "cell_type": "markdown",
   "id": "93d8da89-e893-4817-8a39-b390ba91b80b",
   "metadata": {},
   "source": [
    "RECOMMENDATION BY GENRES"
   ]
  },
  {
   "cell_type": "code",
   "execution_count": null,
   "id": "aae5e90d-14a5-4843-874a-1874157e51ab",
   "metadata": {},
   "outputs": [],
   "source": [
    "def recommend_genre(genres):\n",
    "    genre = clean_text(genres)\n",
    "    genre_vec = vectorizer.transform([genre])\n",
    "    similarity = cosine_similarity(genre_vec, tag_vec)\n",
    "    indices = np.argpartition(similarity, -10)[-10:]\n",
    "    genre_result = movies.iloc[indices][::-1]\n",
    "\n",
    "    #Movies that are not in the recommended movies\n",
    "    genre_result = genre_result[~(genre_result.index).isin(rec_results.index)]\n",
    "    return genre_result"
   ]
  },
  {
   "cell_type": "code",
   "execution_count": 120,
   "id": "1c5ebf3c-b876-4970-bc08-16047cca386c",
   "metadata": {},
   "outputs": [
    {
     "data": {
      "application/vnd.jupyter.widget-view+json": {
       "model_id": "a85a3f0764ed48eab107443d82ce9a54",
       "version_major": 2,
       "version_minor": 0
      },
      "text/plain": [
       "Text(value='harry potter', description='Moive Title: ')"
      ]
     },
     "metadata": {},
     "output_type": "display_data"
    },
    {
     "data": {
      "application/vnd.jupyter.widget-view+json": {
       "model_id": "cacdd097a0c440c2aaa813bd7441bc9f",
       "version_major": 2,
       "version_minor": 0
      },
      "text/plain": [
       "Output()"
      ]
     },
     "metadata": {},
     "output_type": "display_data"
    }
   ],
   "source": [
    "movie_input_name = widgets.Text(\n",
    "    value = \"Harry Potter\",\n",
    "    description = \"Moive Title: \",\n",
    "    disabled = False\n",
    ")\n",
    "\n",
    "recommendation_list = widgets.Output()\n",
    "\n",
    "def on_type(data):\n",
    "    with recommendation_list:\n",
    "        recommendation_list.clear_output()\n",
    "        title = data['new']\n",
    "        if len(title) > 4:\n",
    "            result = search(title)\n",
    "            movie_id = result.iloc[0]['movieId']\n",
    "            genre = result.iloc[0]['genres']\n",
    "            display(get_recommendation(movie_id))\n",
    "\n",
    "movie_input.observe(on_type, names='value')\n",
    "display(movie_input, recommendation_list)"
   ]
  },
  {
   "cell_type": "code",
   "execution_count": null,
   "id": "32cf4293-5f15-4ece-b87f-822cc2caeaa8",
   "metadata": {},
   "outputs": [],
   "source": []
  }
 ],
 "metadata": {
  "kernelspec": {
   "display_name": "Python 3 (ipykernel)",
   "language": "python",
   "name": "python3"
  },
  "language_info": {
   "codemirror_mode": {
    "name": "ipython",
    "version": 3
   },
   "file_extension": ".py",
   "mimetype": "text/x-python",
   "name": "python",
   "nbconvert_exporter": "python",
   "pygments_lexer": "ipython3",
   "version": "3.11.2"
  }
 },
 "nbformat": 4,
 "nbformat_minor": 5
}
