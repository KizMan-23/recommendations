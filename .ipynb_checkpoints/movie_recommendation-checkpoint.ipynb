{
 "cells": [
  {
   "cell_type": "code",
   "execution_count": 2,
   "id": "523f7b69-8563-4ffc-acae-2dd9824dcf87",
   "metadata": {},
   "outputs": [],
   "source": [
    "import pandas as pd\n",
    "import numpy as np\n",
    "import zipfile"
   ]
  },
  {
   "cell_type": "code",
   "execution_count": null,
   "id": "16ddb009-6fcd-494c-9b97-dfefb061b525",
   "metadata": {},
   "outputs": [],
   "source": [
    "with zipfile.ZipFile(open(\"C:/Users/Hp Pc/rec_datasets/movies.zip\", newline=''), compresslevel=1) as file:\n",
    "    movies = file.read()\n"
   ]
  },
  {
   "cell_type": "code",
   "execution_count": 17,
   "id": "149b86a8-8f64-411b-a64b-8762a5f639f6",
   "metadata": {},
   "outputs": [
    {
     "data": {
      "text/plain": [
       "<zipfile.ZipFile filename='C:/Users/Hp Pc/rec_datasets/movies.zip' mode='r'>"
      ]
     },
     "execution_count": 17,
     "metadata": {},
     "output_type": "execute_result"
    }
   ],
   "source": []
  },
  {
   "cell_type": "code",
   "execution_count": null,
   "id": "ed4a35a6-2f4f-49e9-b65b-97d70b2ed379",
   "metadata": {},
   "outputs": [],
   "source": [
    "with open(data) as file:\n",
    "    mov = file.read()"
   ]
  }
 ],
 "metadata": {
  "kernelspec": {
   "display_name": "Python 3 (ipykernel)",
   "language": "python",
   "name": "python3"
  },
  "language_info": {
   "codemirror_mode": {
    "name": "ipython",
    "version": 3
   },
   "file_extension": ".py",
   "mimetype": "text/x-python",
   "name": "python",
   "nbconvert_exporter": "python",
   "pygments_lexer": "ipython3",
   "version": "3.11.2"
  }
 },
 "nbformat": 4,
 "nbformat_minor": 5
}
